{
 "cells": [
  {
   "cell_type": "code",
   "execution_count": null,
   "metadata": {},
   "outputs": [],
   "source": [
    "import plotly.express as px\n",
    "import pandas as pd\n",
    "from lib.utils import load_delta_dir_by_path,run_old_state_machine_on_thresholded_predictions,run_new_state_machine_on_thresholded_predictions,forward_casey,forward_casey_corrected\n",
    "from lib.models import MLP\n",
    "import torch\n",
    "from torch import nn\n",
    "import numpy as np\n",
    "import matplotlib.pyplot as plt\n"
   ]
  },
  {
   "cell_type": "code",
   "execution_count": null,
   "metadata": {},
   "outputs": [],
   "source": [
    "df,X = load_delta_dir_by_path(f'/home/andrew/com.example.delta/files/2022-12-07_16_18_18/raw/2022-12-07_16_18_18.0.csv')\n",
    "df = df[:20000]\n",
    "X = X[:19901]"
   ]
  },
  {
   "cell_type": "code",
   "execution_count": null,
   "metadata": {},
   "outputs": [],
   "source": [
    "# let's visualize the data\n",
    "fig = px.line(df,x='index',y=['acc_x','acc_y','acc_z'],labels={'index':'time (seconds)','value':'acceleration (m/s^2)'})\n",
    "fig.show(renderer='browser')"
   ]
  },
  {
   "cell_type": "code",
   "execution_count": null,
   "metadata": {},
   "outputs": [],
   "source": [
    "# let's visualize the raw network output\n",
    "fig = px.line(df,x='index',y=['acc_x','acc_y','acc_z','rawlabel_10'],labels={'index':'time (seconds)','value':'acceleration (m/s^2)'})\n",
    "fig.show(renderer='browser')"
   ]
  },
  {
   "cell_type": "code",
   "execution_count": null,
   "metadata": {},
   "outputs": [],
   "source": [
    "# how does this translate into puff detection, and therefore session detection?\n",
    "# first we visualize thresholded rawlabels\n",
    "fig = px.line(df,x='index',y=['acc_x','acc_y','acc_z','rawlabel_10','label_10'],labels={'index':'time (seconds)','value':'acceleration (m/s^2)'})\n",
    "fig.show(renderer='browser')"
   ]
  },
  {
   "cell_type": "code",
   "execution_count": null,
   "metadata": {},
   "outputs": [],
   "source": [
    "# now we can get rid of rawlabels, understanding that the algorithm starts there. let's get rid of y and z also for now.\n",
    "fig = px.line(df,x='index',y=['acc_x','label_10'],labels={'index':'time (seconds)','value':'acceleration (m/s^2)'})\n",
    "fig.show(renderer='browser')"
   ]
  },
  {
   "cell_type": "code",
   "execution_count": null,
   "metadata": {},
   "outputs": [],
   "source": [
    "# how do thresholded outputs translate into decisions about puffs?\n",
    "fig = px.line(df,x='index',y=['acc_x','label_10','state_10'],labels={'index':'time (seconds)','value':'acceleration (m/s^2)'})\n",
    "fig.show(renderer='browser')"
   ]
  },
  {
   "cell_type": "code",
   "execution_count": null,
   "metadata": {},
   "outputs": [],
   "source": [
    "# recreate old pipeline\n",
    "rawlabel_old = forward_casey(X)\n",
    "df['rawlabel_old'] = rawlabel_old\n",
    "df['rawlabel_old_10'] = df['rawlabel_old']*10\n",
    "# do thresholding\n",
    "label_old = [1 if y > .85 else 0 for y in rawlabel_old]\n",
    "df['label_old'] = label_old\n",
    "df['label_old_10'] = df['label_old']*10\n",
    "# run old state machine\n",
    "states_old,puff_locations_old = run_old_state_machine_on_thresholded_predictions(label_old)\n",
    "df['state_old'] = states_old\n",
    "# let's plot puff locations\n",
    "fig = px.line(df,y=['acc_x','label_old_10','state_old'],labels={'index':'time (seconds)','value':'acceleration (m/s^2)'})\n",
    "for puff_loc in puff_locations_old:\n",
    "    fig.add_vline(x=puff_loc)\n",
    "fig.show(renderer='browser')"
   ]
  },
  {
   "cell_type": "code",
   "execution_count": null,
   "metadata": {},
   "outputs": [],
   "source": [
    "# recreate new pipeline\n",
    "rawlabel = forward_casey_corrected(X)\n",
    "# verify\n",
    "# rawlabel == df['rawlabel']\n",
    "# np.allclose(rawlabel[:19004],df['rawlabel'][:19004])\n",
    "# np.allclose(rawlabel,df['rawlabel'])\n",
    "# plt.plot(rawlabel[-100:])\n",
    "# plt.plot(df['rawlabel'].to_numpy()[-100:])\n",
    "# thresholding\n",
    "label = [1 if y > .85 else 0 for y in rawlabel]\n",
    "(label == df['label']).all() # works because integer-valued\n",
    "# state machine\n",
    "states,puff_locations = run_new_state_machine_on_thresholded_predictions(label)\n",
    "(states == df['state']).all() # works because integer-valued\n",
    "# compare old and new\n",
    "fig = px.line(df,y=['acc_x','label_10','state','label_old_10','state_old'],labels={'index':'time (seconds)','value':'acceleration (m/s^2)'})\n",
    "for puff_loc in puff_locations:\n",
    "    fig.add_vline(x=puff_loc,line_color=\"green\")\n",
    "for puff_loc in puff_locations_old:\n",
    "    fig.add_vline(x=puff_loc, line_color=\"red\",line_dash=\"dash\",line_width=2)\n",
    "fig.show(renderer='browser')"
   ]
  },
  {
   "cell_type": "code",
   "execution_count": null,
   "metadata": {},
   "outputs": [],
   "source": [
    "# session detection\n",
    "puffs = np.zeros(len(df))\n",
    "puffs[np.array(puff_locations)] = 1\n",
    "puffs_in_session = []\n",
    "for i,puff in enumerate(puffs):\n",
    "    if i < 9600:\n",
    "        puffs_in_session.append(puffs[0:i+1].sum())\n",
    "    else:\n",
    "        puffs_in_session.append(puffs[i-9599:i+1].sum())\n",
    "df['puff_count'] = puffs_in_session"
   ]
  },
  {
   "cell_type": "code",
   "execution_count": null,
   "metadata": {},
   "outputs": [],
   "source": [
    "session_idx = []\n",
    "for i,(puff,puff_count) in enumerate(zip(puffs,puffs_in_session)):\n",
    "    if(puff and puff_count > 2):\n",
    "        session_idx.append(i)"
   ]
  },
  {
   "cell_type": "code",
   "execution_count": null,
   "metadata": {},
   "outputs": [],
   "source": [
    "# session detection\n",
    "puffs = np.zeros(len(df))\n",
    "puffs[np.array(puff_locations_old)] = 1\n",
    "puffs_in_session = []\n",
    "for i,puff in enumerate(puffs):\n",
    "    if i < 9600:\n",
    "        puffs_in_session.append(puffs[0:i+1].sum())\n",
    "    else:\n",
    "        puffs_in_session.append(puffs[i-9599:i+1].sum())\n",
    "df['puff_count_old'] = puffs_in_session"
   ]
  },
  {
   "cell_type": "code",
   "execution_count": 123,
   "metadata": {},
   "outputs": [],
   "source": [
    "# session detection\n",
    "puff_signal = np.zeros(len(df))\n",
    "puff_signal[np.array(puff_locations_old)] = 1\n",
    "puffs_in_session = []\n",
    "session_count = 0\n",
    "sessions = []\n",
    "puffs = []\n",
    "puff_count = 0\n",
    "session = False\n",
    "in_session = []\n",
    "puff_counts = []\n",
    "for i,_ in enumerate(puff_signal):\n",
    "    puffs = [puff - 1 for puff in puffs]\n",
    "    if (session):\n",
    "        if(puffs[0] == 0):\n",
    "            # meaning the earliest puff in the session has now expired\n",
    "            session = False\n",
    "        else:\n",
    "            puffs_in_session.append(len(puffs))\n",
    "            puff_counts.append(puff_count)\n",
    "            sessions.append(session_count)\n",
    "            in_session.append(1)\n",
    "            continue\n",
    "    puffs = [puff for puff in puffs if puff > 0]\n",
    "    if(puff_signal[i]):\n",
    "        puff_count += 1\n",
    "        puffs.append(9600)\n",
    "    if(puff_count == 3):\n",
    "        puff_count = 0\n",
    "        session_count += 1\n",
    "        session = True\n",
    "        \n",
    "    # if i < 9600:\n",
    "    #     puffs_in_session.append(puffs[0:i+1].sum())\n",
    "    # else:\n",
    "    #     puffs_in_session.append(puffs[i-9599:i+1].sum())\n",
    "    puffs_in_session.append(len(puffs))\n",
    "    in_session.append(0)\n",
    "    puff_counts.append(puff_count)\n",
    "    sessions.append(session_count)\n",
    "df['puff_count_old'] = puffs_in_session\n",
    "df['puff_counts'] = puff_counts\n",
    "df['sessions'] = sessions\n",
    "df['in_session'] = in_session\n",
    "fig = px.line(df,y=['acc_x','puff_count_old','puff_counts','sessions','in_session'],labels={'index':'time (seconds)','value':'acceleration (m/s^2)'})\n",
    "for puff_loc in puff_locations_old:\n",
    "    fig.add_vline(x=puff_loc, line_color=\"red\",line_width=1)\n",
    "fig.show(renderer='browser')"
   ]
  },
  {
   "cell_type": "code",
   "execution_count": null,
   "metadata": {},
   "outputs": [],
   "source": [
    "puffs"
   ]
  },
  {
   "cell_type": "code",
   "execution_count": null,
   "metadata": {},
   "outputs": [],
   "source": [
    "session_idx_old = []\n",
    "for i,(puff,puff_count) in enumerate(zip(puffs,puffs_in_session)):\n",
    "    if(puff and puff_count > 2):\n",
    "        session_idx_old.append(i)"
   ]
  },
  {
   "cell_type": "code",
   "execution_count": null,
   "metadata": {},
   "outputs": [],
   "source": [
    "fig = px.line(df[:50000],y=['acc_x','puff_count','puff_count_old'],labels={'index':'time (seconds)','value':'acceleration (m/s^2)'})\n",
    "fig.show(renderer='browser')\n"
   ]
  },
  {
   "cell_type": "code",
   "execution_count": null,
   "metadata": {},
   "outputs": [],
   "source": [
    "\n",
    "for puff_loc in puff_locations:\n",
    "    fig.add_vline(x=puff_loc,line_dash=\"dash\", line_color=\"green\",line_width=.3)\n",
    "for puff_loc in puff_locations_old:\n",
    "    fig.add_vline(x=puff_loc, line_color=\"red\",line_width=.3)\n",
    "for session_loc in session_idx:\n",
    "    fig.add_vline(x=session_loc,line_dash=\"dash\", line_color=\"green\",line_width=2)\n",
    "for session_loc in session_idx_old:\n",
    "    fig.add_vline(x=session_loc, line_color=\"red\",line_width=2)\n",
    "fig.show(renderer='browser')"
   ]
  }
 ],
 "metadata": {
  "kernelspec": {
   "display_name": "Python 3.10.6 64-bit",
   "language": "python",
   "name": "python3"
  },
  "language_info": {
   "codemirror_mode": {
    "name": "ipython",
    "version": 3
   },
   "file_extension": ".py",
   "mimetype": "text/x-python",
   "name": "python",
   "nbconvert_exporter": "python",
   "pygments_lexer": "ipython3",
   "version": "3.10.6"
  },
  "orig_nbformat": 4,
  "vscode": {
   "interpreter": {
    "hash": "916dbcbb3f70747c44a77c7bcd40155683ae19c65e1c03b4aa3499c5328201f1"
   }
  }
 },
 "nbformat": 4,
 "nbformat_minor": 2
}
