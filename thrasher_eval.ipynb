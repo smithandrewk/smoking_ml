{
 "cells": [
  {
   "cell_type": "code",
   "execution_count": 1,
   "metadata": {},
   "outputs": [
    {
     "ename": "ImportError",
     "evalue": "cannot import name 'load_delta_from_dir_by_index' from 'lib.utils' (/home/andrew/smoking/smoking_ml/lib/utils.py)",
     "output_type": "error",
     "traceback": [
      "\u001b[0;31m---------------------------------------------------------------------------\u001b[0m",
      "\u001b[0;31mImportError\u001b[0m                               Traceback (most recent call last)",
      "Cell \u001b[0;32mIn[1], line 3\u001b[0m\n\u001b[1;32m      1\u001b[0m \u001b[38;5;28;01mimport\u001b[39;00m \u001b[38;5;21;01mplotly\u001b[39;00m\u001b[38;5;21;01m.\u001b[39;00m\u001b[38;5;21;01mexpress\u001b[39;00m \u001b[38;5;28;01mas\u001b[39;00m \u001b[38;5;21;01mpx\u001b[39;00m\n\u001b[1;32m      2\u001b[0m \u001b[38;5;28;01mimport\u001b[39;00m \u001b[38;5;21;01mpandas\u001b[39;00m \u001b[38;5;28;01mas\u001b[39;00m \u001b[38;5;21;01mpd\u001b[39;00m\n\u001b[0;32m----> 3\u001b[0m \u001b[38;5;28;01mfrom\u001b[39;00m \u001b[38;5;21;01mlib\u001b[39;00m\u001b[38;5;21;01m.\u001b[39;00m\u001b[38;5;21;01mutils\u001b[39;00m \u001b[38;5;28;01mimport\u001b[39;00m load_delta_from_dir_by_index,run_old_state_machine_on_thresholded_predictions,run_new_state_machine_on_thresholded_predictions,forward_casey,forward_casey_corrected\n\u001b[1;32m      4\u001b[0m \u001b[38;5;28;01mfrom\u001b[39;00m \u001b[38;5;21;01mlib\u001b[39;00m\u001b[38;5;21;01m.\u001b[39;00m\u001b[38;5;21;01mmodels\u001b[39;00m \u001b[38;5;28;01mimport\u001b[39;00m MLP\n\u001b[1;32m      5\u001b[0m \u001b[38;5;28;01mimport\u001b[39;00m \u001b[38;5;21;01mtorch\u001b[39;00m\n",
      "\u001b[0;31mImportError\u001b[0m: cannot import name 'load_delta_from_dir_by_index' from 'lib.utils' (/home/andrew/smoking/smoking_ml/lib/utils.py)"
     ]
    }
   ],
   "source": [
    "import plotly.express as px\n",
    "import pandas as pd\n",
    "from lib.utils import load_delta_from_dir_by_index,run_old_state_machine_on_thresholded_predictions,run_new_state_machine_on_thresholded_predictions,forward_casey,forward_casey_corrected\n",
    "from lib.models import MLP\n",
    "import torch\n",
    "from torch import nn\n",
    "import numpy as np\n",
    "import matplotlib.pyplot as plt"
   ]
  },
  {
   "cell_type": "code",
   "execution_count": 99,
   "metadata": {},
   "outputs": [
    {
     "name": "stderr",
     "output_type": "stream",
     "text": [
      "100%|██████████| 16191/16191 [00:00<00:00, 20971.80it/s]\n"
     ]
    }
   ],
   "source": [
    "# recreate old pipeline\n",
    "rawlabel_old = forward_casey(X)\n",
    "df['rawlabel_old'] = rawlabel_old\n",
    "df['rawlabel_old_10'] = df['rawlabel_old']*10\n",
    "# proof that recomputed rawlabels and watch rawlabels are the same\n",
    "# fig = px.line(df[:70000],x='index',y=['acc_x','rawlabel_10','rawlabel_old_10'],labels={'index':'time (seconds)','value':'acceleration (m/s^2)'})\n",
    "# fig.show(renderer='browser')\n",
    "# do thresholding\n",
    "label_old = [1 if y > .85 else 0 for y in rawlabel_old]\n",
    "df['label_old'] = label_old\n",
    "df['label_old_10'] = df['label_old']*10\n",
    "# thresholds will obviously be the same, but we can check\n",
    "# fig = px.line(df[:70000],x='index',y=['acc_x','label_10','label_old_10'],labels={'index':'time (seconds)','value':'acceleration (m/s^2)'})\n",
    "# fig.show(renderer='browser')\n",
    "# run old state machine\n",
    "states_old,puff_locations_old = run_old_state_machine_on_thresholded_predictions(label_old)\n",
    "df['state_old'] = states_old\n",
    "# fig = px.line(df[:70000],x='index',y=['acc_x','state','state_old'],labels={'index':'time (seconds)','value':'acceleration (m/s^2)'})\n",
    "# fig.show(renderer='browser')\n",
    "# let's plot puff locations\n",
    "fig = px.line(df[:70000],y=['acc_x','label_old_10','state_old'],labels={'index':'time (seconds)','value':'acceleration (m/s^2)'})\n",
    "for puff_loc in puff_locations_old:\n",
    "    fig.add_vline(x=puff_loc)\n",
    "fig.show(renderer='browser')"
   ]
  },
  {
   "cell_type": "code",
   "execution_count": 104,
   "metadata": {},
   "outputs": [
    {
     "name": "stderr",
     "output_type": "stream",
     "text": [
      "100%|██████████| 112519/112519 [00:10<00:00, 10693.54it/s]\n"
     ]
    }
   ],
   "source": [
    "# run thrasher data through new network\n",
    "rawlabel = forward_casey_corrected(X)\n",
    "df['rawlabel'] = rawlabel\n",
    "df['rawlabel_10'] = df['rawlabel']*10\n",
    "# thresholding\n",
    "label = [1 if y > .85 else 0 for y in rawlabel]\n",
    "df['label'] = label\n",
    "df['label_10'] = df['label']*10\n",
    "# state machine\n",
    "states,puff_locations = run_new_state_machine_on_thresholded_predictions(label)\n",
    "df['state'] = states\n",
    "# compare old and new\n",
    "fig = px.line(df[:70000],y=['acc_x','rawlabel_10','label_10','state'],labels={'index':'time (seconds)','value':'acceleration (m/s^2)'})\n",
    "for puff_loc in puff_locations:\n",
    "    fig.add_vline(x=puff_loc,line_color=\"green\")\n",
    "# for puff_loc in puff_locations_old:\n",
    "#     fig.add_vline(x=puff_loc, line_color=\"red\",line_dash=\"dash\",line_width=2)\n",
    "fig.show(renderer='browser')"
   ]
  },
  {
   "cell_type": "code",
   "execution_count": 54,
   "metadata": {},
   "outputs": [],
   "source": [
    "# session detection\n",
    "puff_signal = np.zeros(len(df))\n",
    "puff_signal[np.array(puff_locations_old)] = 1\n",
    "puffs_in_session = []\n",
    "session_count = 0\n",
    "sessions = []\n",
    "puffs = []\n",
    "puff_count = 0\n",
    "session = False\n",
    "in_session = []\n",
    "puff_counts = []\n",
    "for i,_ in enumerate(puff_signal):\n",
    "    puffs = [puff - 1 for puff in puffs]\n",
    "    if (session):\n",
    "        if(puffs[0] == 0):\n",
    "            # meaning the earliest puff in the session has now expired\n",
    "            session = False\n",
    "            puffs = []\n",
    "        else:\n",
    "            puffs_in_session.append(len(puffs))\n",
    "            puff_counts.append(puff_count)\n",
    "            sessions.append(session_count)\n",
    "            in_session.append(1)\n",
    "            if(puff_signal[i]):\n",
    "                puffs.append(9600)\n",
    "            continue\n",
    "    puffs = [puff for puff in puffs if puff > 0]\n",
    "    if(puff_signal[i]):\n",
    "        puff_count += 1\n",
    "        puffs.append(9600)\n",
    "    if(puff_count == 3):\n",
    "        puff_count = 0\n",
    "        session_count += 1\n",
    "        session = True\n",
    "        \n",
    "    puffs_in_session.append(len(puffs))\n",
    "    in_session.append(0)\n",
    "    puff_counts.append(puff_count)\n",
    "    sessions.append(session_count)\n",
    "df['puff_count_old'] = puffs_in_session\n",
    "df['puff_counts'] = puff_counts\n",
    "df['sessions'] = sessions\n",
    "df['in_session'] = in_session\n",
    "df['in_session'] = df['in_session']*10\n",
    "\n",
    "fig = px.line(df[:70000],y=['acc_x','puff_count_old','puff_counts','sessions','in_session'],labels={'index':'time (seconds)','value':'acceleration (m/s^2)'})\n",
    "for puff_loc in puff_locations_old:\n",
    "    fig.add_vline(x=puff_loc, line_color=\"red\",line_width=1)\n",
    "fig.show(renderer='browser')"
   ]
  },
  {
   "cell_type": "code",
   "execution_count": 105,
   "metadata": {},
   "outputs": [],
   "source": [
    "# session detection\n",
    "puff_signal = np.zeros(len(df))\n",
    "puff_signal[np.array(puff_locations)] = 1\n",
    "puffs_in_session = []\n",
    "session_count = 0\n",
    "sessions = []\n",
    "puffs = []\n",
    "puff_count = 0\n",
    "session = False\n",
    "in_session = []\n",
    "puff_counts = []\n",
    "for i,_ in enumerate(puff_signal):\n",
    "    puffs = [puff - 1 for puff in puffs]\n",
    "    if (session):\n",
    "        if(puffs[0] == 0):\n",
    "            # meaning the earliest puff in the session has now expired\n",
    "            session = False\n",
    "            puffs = []\n",
    "        else:\n",
    "            puffs_in_session.append(len(puffs))\n",
    "            puff_counts.append(puff_count)\n",
    "            sessions.append(session_count)\n",
    "            in_session.append(1)\n",
    "            if(puff_signal[i]):\n",
    "                puffs.append(9600)\n",
    "            continue\n",
    "    puffs = [puff for puff in puffs if puff > 0]\n",
    "    if(puff_signal[i]):\n",
    "        puff_count += 1\n",
    "        puffs.append(9600)\n",
    "    if(puff_count == 3):\n",
    "        puff_count = 0\n",
    "        session_count += 1\n",
    "        session = True\n",
    "        \n",
    "    puffs_in_session.append(len(puffs))\n",
    "    in_session.append(0)\n",
    "    puff_counts.append(puff_count)\n",
    "    sessions.append(session_count)\n",
    "df['puff_count_old'] = puffs_in_session\n",
    "df['puff_counts'] = puff_counts\n",
    "df['sessions'] = sessions\n",
    "df['in_session'] = in_session\n",
    "df['in_session'] = df['in_session']*10\n",
    "\n",
    "fig = px.line(df[:70000],y=['acc_x','puff_count_old','puff_counts','sessions','in_session'],labels={'index':'time (seconds)','value':'acceleration (m/s^2)'})\n",
    "for puff_loc in puff_locations:\n",
    "    fig.add_vline(x=puff_loc, line_color=\"red\",line_width=1)\n",
    "fig.show(renderer='browser')"
   ]
  },
  {
   "cell_type": "code",
   "execution_count": null,
   "metadata": {},
   "outputs": [],
   "source": [
    "\n",
    "for puff_loc in puff_locations:\n",
    "    fig.add_vline(x=puff_loc,line_dash=\"dash\", line_color=\"green\",line_width=.3)\n",
    "for puff_loc in puff_locations_old:\n",
    "    fig.add_vline(x=puff_loc, line_color=\"red\",line_width=.3)\n",
    "for session_loc in session_idx:\n",
    "    fig.add_vline(x=session_loc,line_dash=\"dash\", line_color=\"green\",line_width=2)\n",
    "for session_loc in session_idx_old:\n",
    "    fig.add_vline(x=session_loc, line_color=\"red\",line_width=2)\n",
    "fig.show(renderer='browser')"
   ]
  },
  {
   "cell_type": "code",
   "execution_count": null,
   "metadata": {},
   "outputs": [],
   "source": [
    "# recreate new pipeline\n",
    "rawlabel = forward_casey_corrected(X)\n",
    "# verify\n",
    "# rawlabel == df['rawlabel']\n",
    "# np.allclose(rawlabel[:19004],df['rawlabel'][:19004])\n",
    "# np.allclose(rawlabel,df['rawlabel'])\n",
    "# plt.plot(rawlabel[-100:])\n",
    "# plt.plot(df['rawlabel'].to_numpy()[-100:])\n",
    "# thresholding\n",
    "label = [1 if y > .85 else 0 for y in rawlabel]\n",
    "(label == df['label']).all() # works because integer-valued\n",
    "# state machine\n",
    "states,puff_locations = run_new_state_machine_on_thresholded_predictions(label)\n",
    "(states == df['state']).all() # works because integer-valued\n",
    "# compare old and new\n",
    "fig = px.line(df,y=['acc_x','label_10','state','label_old_10','state_old'],labels={'index':'time (seconds)','value':'acceleration (m/s^2)'})\n",
    "for puff_loc in puff_locations:\n",
    "    fig.add_vline(x=puff_loc,line_color=\"green\")\n",
    "for puff_loc in puff_locations_old:\n",
    "    fig.add_vline(x=puff_loc, line_color=\"red\",line_dash=\"dash\",line_width=2)\n",
    "fig.show(renderer='browser')"
   ]
  }
 ],
 "metadata": {
  "kernelspec": {
   "display_name": "Python 3.10.6 64-bit",
   "language": "python",
   "name": "python3"
  },
  "language_info": {
   "codemirror_mode": {
    "name": "ipython",
    "version": 3
   },
   "file_extension": ".py",
   "mimetype": "text/x-python",
   "name": "python",
   "nbconvert_exporter": "python",
   "pygments_lexer": "ipython3",
   "version": "3.10.12"
  },
  "orig_nbformat": 4,
  "vscode": {
   "interpreter": {
    "hash": "916dbcbb3f70747c44a77c7bcd40155683ae19c65e1c03b4aa3499c5328201f1"
   }
  }
 },
 "nbformat": 4,
 "nbformat_minor": 2
}
