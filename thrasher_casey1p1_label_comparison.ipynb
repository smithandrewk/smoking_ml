{
 "cells": [
  {
   "cell_type": "code",
   "execution_count": 15,
   "metadata": {},
   "outputs": [],
   "source": [
    "import os\n",
    "import pandas as pd\n",
    "import plotly.express as px\n",
    "from lib.env import *\n",
    "def run_new_state_machine_on_thresholded_predictions(predictions):\n",
    "    state = 0\n",
    "    states = []\n",
    "    puff_locations = []\n",
    "    currentInterPuffIntervalLength = 0\n",
    "    currentPuffLength = 0\n",
    "    for i,smokingOutput in enumerate(predictions):\n",
    "        states.append(state)\n",
    "        if (state == 0 and smokingOutput == 0.0):\n",
    "            # no action\n",
    "            state = 0\n",
    "        elif (state == 0 and smokingOutput == 1.0):\n",
    "            # starting validating puff length\n",
    "            state = 1\n",
    "            currentPuffLength += 1\n",
    "        elif (state == 1 and smokingOutput == 1.0):\n",
    "            # continuing not yet valid length puff\n",
    "            currentPuffLength += 1\n",
    "            if (currentPuffLength > 14) :\n",
    "                # valid puff length!\n",
    "                state = 2\n",
    "        elif (state == 1 and smokingOutput == 0.0):\n",
    "            # never was a puff, begin validating end\n",
    "            state = 3\n",
    "            currentInterPuffIntervalLength += 1\n",
    "        elif (state == 2 and smokingOutput == 1.0):\n",
    "            # continuing already valid puff\n",
    "            currentPuffLength += 1\n",
    "        elif (state == 2 and smokingOutput == 0.0):\n",
    "            # ending already valid puff length\n",
    "            state = 4 # begin validating inter puff interval\n",
    "            currentInterPuffIntervalLength += 1\n",
    "        elif (state == 3 and smokingOutput == 0.0): \n",
    "            currentInterPuffIntervalLength += 1\n",
    "            if (currentInterPuffIntervalLength > 49):\n",
    "                # valid interpuff\n",
    "                state = 0\n",
    "                currentPuffLength = 0\n",
    "                currentInterPuffIntervalLength = 0\n",
    "        elif (state == 3 and smokingOutput == 1.0):\n",
    "            # was validating interpuff for puff that wasn't valid\n",
    "            currentPuffLength += 1\n",
    "            currentInterPuffIntervalLength = 0\n",
    "            if (currentPuffLength > 14) :\n",
    "                # valid puff length!\n",
    "                state = 2\n",
    "            else:\n",
    "                state = 1\n",
    "        elif (state == 4 and smokingOutput == 0.0) :\n",
    "            currentInterPuffIntervalLength += 1\n",
    "            if (currentInterPuffIntervalLength > 49):\n",
    "                # valid interpuff for valid puff\n",
    "                state = 0\n",
    "                currentPuffLength = 0\n",
    "                currentInterPuffIntervalLength = 0\n",
    "                puff_locations.append(i)\n",
    "        elif (state == 4 and smokingOutput == 1.0):\n",
    "            # back into puff for already valid puff\n",
    "            currentInterPuffIntervalLength = 0\n",
    "            currentPuffLength += 1\n",
    "            state = 2\n",
    "    states = states[1:] + [0]\n",
    "    return states,puff_locations\n",
    "DATASET_PATH = f'{DATA_PATH}/thrasher'"
   ]
  },
  {
   "cell_type": "code",
   "execution_count": 16,
   "metadata": {},
   "outputs": [],
   "source": [
    "RECORDING_IDS = os.listdir(DATASET_PATH)\n",
    "RECORDING_PATH = f'{DATASET_PATH}/{RECORDING_IDS[0]}/raw/{RECORDING_IDS[0]}.0.csv'\n",
    "df = pd.read_csv(RECORDING_PATH,skiprows=1)\n",
    "df = df.reset_index()\n",
    "fs = 20\n",
    "df.timestamp = (df.timestamp - df.timestamp[0])*1e-9\n",
    "df['index'] = df['index']/(fs*60) # index in minutes"
   ]
  },
  {
   "cell_type": "code",
   "execution_count": 17,
   "metadata": {},
   "outputs": [],
   "source": [
    "import torch\n",
    "from torch import nn\n",
    "X = torch.from_numpy(df[['acc_x','acc_y','acc_z']].to_numpy())\n",
    "x = X[:,0].unsqueeze(1)\n",
    "y = X[:,1].unsqueeze(1)\n",
    "z = X[:,2].unsqueeze(1)\n",
    "xs = [x[:-99]]\n",
    "ys = [y[:-99]]\n",
    "zs = [z[:-99]]\n",
    "for i in range(1,99):\n",
    "    xs.append(x[i:i-99])\n",
    "    ys.append(y[i:i-99])\n",
    "    zs.append(z[i:i-99])\n",
    "xs.append(x[99:])\n",
    "ys.append(y[99:])\n",
    "zs.append(z[99:])\n",
    "xs = torch.cat(xs,axis=1).float()\n",
    "ys = torch.cat(ys,axis=1).float()\n",
    "zs = torch.cat(zs,axis=1).float()\n",
    "X = torch.cat([xs,ys,zs],axis=1)"
   ]
  },
  {
   "cell_type": "code",
   "execution_count": 18,
   "metadata": {},
   "outputs": [],
   "source": [
    "import pandas as pd\n",
    "import numpy as np\n",
    "from tqdm import tqdm\n",
    "\n",
    "class Casey1p1():\n",
    "    def __init__(self):\n",
    "        self.range = pd.read_csv(f'{DATA_PATH}/casey_network/range',header=None).to_numpy()\n",
    "        self.fc1 = pd.read_csv(f'{DATA_PATH}/casey_network/input',header=None).to_numpy()\n",
    "        self.fc2 = pd.read_csv(f'{DATA_PATH}/casey_network/hidden',header=None).to_numpy()\n",
    "    def __minMaxNorm(self,x):\n",
    "        return ((2*((x-self.range[:,0])/(self.range[:,1]-self.range[:,0])))-1).tolist()\n",
    "    def __tanSigmoid(self,x):\n",
    "        output = []\n",
    "        for xi in x:\n",
    "            output.append((2/(1+np.exp(-2*xi)))-1)\n",
    "        return output\n",
    "    def __logSigmoid(self,x):\n",
    "        return (1/(1+np.exp(-1*x)))\n",
    "    def __forwardSingleBatch(self,x):\n",
    "        x = [1] + self.__minMaxNorm(x)\n",
    "        x = [1] + self.__tanSigmoid(self.fc1 @ x)\n",
    "        x = self.fc2 @ x\n",
    "        x = self.__logSigmoid(x[0])\n",
    "        return x\n",
    "    def __call__(self,x):\n",
    "        output = []\n",
    "        for xi in tqdm(x):\n",
    "            output.append(self.__forwardSingleBatch(xi))\n",
    "        return output + [0]*99\n",
    "model = Casey1p1()"
   ]
  },
  {
   "cell_type": "code",
   "execution_count": 19,
   "metadata": {},
   "outputs": [
    {
     "name": "stderr",
     "output_type": "stream",
     "text": [
      "100%|██████████| 133204/133204 [00:09<00:00, 13986.76it/s]\n"
     ]
    }
   ],
   "source": [
    "y_pred = model(X)\n",
    "df['y_pred'] = y_pred"
   ]
  },
  {
   "cell_type": "code",
   "execution_count": 20,
   "metadata": {},
   "outputs": [],
   "source": [
    "# see the difference in activation\n",
    "fig = px.line(df.iloc[::2],y=['rawlabel','y_pred'])\n",
    "fig.show(renderer='browser')"
   ]
  },
  {
   "cell_type": "code",
   "execution_count": 21,
   "metadata": {},
   "outputs": [],
   "source": [
    "y_thresh = [1 if y > .85 else 0 for y in y_pred]\n",
    "df['y_thresh'] = y_thresh"
   ]
  },
  {
   "cell_type": "code",
   "execution_count": 22,
   "metadata": {},
   "outputs": [],
   "source": [
    "fig = px.line(df.iloc[::2],y=['label','y_thresh'])\n",
    "fig.show(renderer='browser')"
   ]
  },
  {
   "cell_type": "code",
   "execution_count": 23,
   "metadata": {},
   "outputs": [],
   "source": [
    "y_state,puff_locations = run_new_state_machine_on_thresholded_predictions(y_thresh)"
   ]
  },
  {
   "cell_type": "code",
   "execution_count": 24,
   "metadata": {},
   "outputs": [],
   "source": [
    "df['y_state'] = y_state\n",
    "fig = px.line(df.iloc[::2],y=['state','y_state'])\n",
    "fig.show(renderer='browser')"
   ]
  },
  {
   "cell_type": "code",
   "execution_count": 25,
   "metadata": {},
   "outputs": [],
   "source": [
    "fig = px.line(df.iloc[::2],y=['state','y_state'])\n",
    "for puff_loc in puff_locations:\n",
    "    fig.add_vline(x=puff_loc)\n",
    "fig.show(renderer='browser')"
   ]
  }
 ],
 "metadata": {
  "kernelspec": {
   "display_name": "Python 3.10.12 64-bit",
   "language": "python",
   "name": "python3"
  },
  "language_info": {
   "codemirror_mode": {
    "name": "ipython",
    "version": 3
   },
   "file_extension": ".py",
   "mimetype": "text/x-python",
   "name": "python",
   "nbconvert_exporter": "python",
   "pygments_lexer": "ipython3",
   "version": "3.11.4"
  },
  "orig_nbformat": 4,
  "vscode": {
   "interpreter": {
    "hash": "916dbcbb3f70747c44a77c7bcd40155683ae19c65e1c03b4aa3499c5328201f1"
   }
  }
 },
 "nbformat": 4,
 "nbformat_minor": 2
}
