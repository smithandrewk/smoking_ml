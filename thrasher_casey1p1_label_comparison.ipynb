{
 "cells": [
  {
   "cell_type": "code",
   "execution_count": null,
   "metadata": {},
   "outputs": [],
   "source": [
    "import os\n",
    "import pandas as pd\n",
    "import plotly.express as px\n",
    "\n",
    "DATASET_PATH = f'/home/andrew/smoking/data/thrasher'\n",
    "RECORDING_IDS = os.listdir(DATASET_PATH)\n",
    "RECORDING_PATH = f'{DATASET_PATH}/{RECORDING_IDS[0]}/raw/{RECORDING_IDS[0]}.0.csv'\n",
    "df = pd.read_csv(RECORDING_PATH,skiprows=1)\n",
    "df = df.reset_index()\n",
    "fs = 20\n",
    "df.timestamp = (df.timestamp - df.timestamp[0])*1e-9\n",
    "df['index'] = df['index']/(fs*60) # index in minutes"
   ]
  },
  {
   "cell_type": "code",
   "execution_count": null,
   "metadata": {},
   "outputs": [],
   "source": [
    "import torch\n",
    "from torch import nn\n",
    "X = torch.from_numpy(df[['acc_x','acc_y','acc_z']].to_numpy())\n",
    "x = X[:,0].unsqueeze(1)\n",
    "y = X[:,1].unsqueeze(1)\n",
    "z = X[:,2].unsqueeze(1)\n",
    "xs = [x[:-99]]\n",
    "ys = [y[:-99]]\n",
    "zs = [z[:-99]]\n",
    "for i in range(1,99):\n",
    "    xs.append(x[i:i-99])\n",
    "    ys.append(y[i:i-99])\n",
    "    zs.append(z[i:i-99])\n",
    "xs.append(x[99:])\n",
    "ys.append(y[99:])\n",
    "zs.append(z[99:])\n",
    "xs = torch.cat(xs,axis=1).float()\n",
    "ys = torch.cat(ys,axis=1).float()\n",
    "zs = torch.cat(zs,axis=1).float()\n",
    "X = torch.cat([xs,ys,zs],axis=1)"
   ]
  },
  {
   "cell_type": "code",
   "execution_count": null,
   "metadata": {},
   "outputs": [],
   "source": [
    "import pandas as pd\n",
    "import numpy as np\n",
    "from tqdm import tqdm\n",
    "\n",
    "class Casey1p0():\n",
    "    def __init__(self):\n",
    "        self.range = pd.read_csv('/home/andrew/smoking/data/casey_network/range',header=None).to_numpy()\n",
    "        self.fc1 = pd.read_csv('/home/andrew/smoking/data/casey_network/input',header=None).to_numpy()\n",
    "        self.fc2 = pd.read_csv('/home/andrew/smoking/data/casey_network/hidden',header=None).to_numpy()\n",
    "    def __oldMinMaxNorm(self,x):\n",
    "        return ((x-x.min())/(x.max()-x.min())).tolist()\n",
    "    def __minMaxNorm(self,x):\n",
    "        return ((2*((x-self.range[:,0])/(self.range[:,1]-self.range[:,0])))-1).tolist()\n",
    "    def __tanSigmoid(self,x):\n",
    "        output = []\n",
    "        for xi in x:\n",
    "            output.append((2/(1+np.exp(-2*xi)))-1)\n",
    "        return output\n",
    "    def __logSigmoid(self,x):\n",
    "        return (1/(1+np.exp(-1*x)))\n",
    "    def __forwardSingleBatch(self,x):\n",
    "        x = [1] + self.__oldMinMaxNorm(x)\n",
    "        x = [1] + self.__tanSigmoid(self.fc1 @ x)\n",
    "        x = self.fc2 @ x\n",
    "        x = self.__logSigmoid(x[0])\n",
    "        return x\n",
    "    def __call__(self,x):\n",
    "        output = []\n",
    "        for xi in tqdm(x):\n",
    "            output.append(self.__forwardSingleBatch(xi))\n",
    "        return output + [0]*99\n",
    "model = Casey1p0()"
   ]
  },
  {
   "cell_type": "code",
   "execution_count": 57,
   "metadata": {},
   "outputs": [],
   "source": [
    "y_pred = model(X)\n",
    "df['y_pred'] = y_pred"
   ]
  },
  {
   "cell_type": "code",
   "execution_count": 58,
   "metadata": {},
   "outputs": [
    {
     "name": "stderr",
     "output_type": "stream",
     "text": [
      "100%|██████████| 109997/109997 [00:05<00:00, 21987.64it/s]\n"
     ]
    }
   ],
   "source": [
    "fig = px.line(df.iloc[::2],y=['rawlabel','y_pred'])\n",
    "fig.show(renderer='browser')"
   ]
  }
 ],
 "metadata": {
  "kernelspec": {
   "display_name": "Python 3.10.12 64-bit",
   "language": "python",
   "name": "python3"
  },
  "language_info": {
   "codemirror_mode": {
    "name": "ipython",
    "version": 3
   },
   "file_extension": ".py",
   "mimetype": "text/x-python",
   "name": "python",
   "nbconvert_exporter": "python",
   "pygments_lexer": "ipython3",
   "version": "3.10.12"
  },
  "orig_nbformat": 4,
  "vscode": {
   "interpreter": {
    "hash": "916dbcbb3f70747c44a77c7bcd40155683ae19c65e1c03b4aa3499c5328201f1"
   }
  }
 },
 "nbformat": 4,
 "nbformat_minor": 2
}
