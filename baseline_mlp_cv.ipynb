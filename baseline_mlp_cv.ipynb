{
 "cells": [
  {
   "cell_type": "code",
   "execution_count": null,
   "metadata": {},
   "outputs": [],
   "source": [
    "from lib.imports import *"
   ]
  },
  {
   "cell_type": "code",
   "execution_count": null,
   "metadata": {},
   "outputs": [],
   "source": [
    "skip_idx = [19,24,26,32,34,38,40,45,52,55,70]\n",
    "all_idx = list(range(71))\n",
    "for idx in skip_idx:\n",
    "    all_idx.remove(idx)\n",
    "import random\n",
    "random.seed(0)\n",
    "random.shuffle(all_idx)\n",
    "k_folds = 5\n",
    "foldi = 0\n",
    "fold_size = int(len(all_idx)/k_folds)\n",
    "test_idx = all_idx[foldi*fold_size:(foldi+1)*fold_size]\n",
    "for idx in test_idx:\n",
    "    all_idx.remove(idx)\n",
    "train_idx = all_idx"
   ]
  },
  {
   "cell_type": "code",
   "execution_count": null,
   "metadata": {},
   "outputs": [],
   "source": [
    "window_size = 101\n",
    "X,y = load_and_window_nursing_list(train_idx,window_size=window_size)"
   ]
  },
  {
   "cell_type": "code",
   "execution_count": null,
   "metadata": {},
   "outputs": [],
   "source": [
    "X_train,X_dev,y_train,y_dev = train_test_split(X,y,test_size=.05,stratify=y)\n",
    "trainloader = DataLoader(TensorDataset(X_train,y_train),batch_size=64,shuffle=True)\n",
    "devloader = DataLoader(TensorDataset(X_dev,y_dev),batch_size=64,shuffle=True)"
   ]
  },
  {
   "cell_type": "code",
   "execution_count": null,
   "metadata": {},
   "outputs": [],
   "source": [
    "device = 'cuda'\n",
    "model = MLP(window_size=window_size).to(device=device)\n",
    "criterion = nn.BCEWithLogitsLoss()\n",
    "optimizer = torch.optim.Adam(model.parameters())\n",
    "params = sum([p.flatten().size()[0] for p in list(model.parameters())])\n",
    "print(\"Params: \",params)"
   ]
  },
  {
   "cell_type": "code",
   "execution_count": null,
   "metadata": {},
   "outputs": [],
   "source": [
    "loss_tr = []\n",
    "loss_dev = []\n",
    "pbar = tqdm(range(10))\n",
    "\n",
    "for epoch in pbar:\n",
    "    # train loop\n",
    "    model.train()\n",
    "    loss_tr_total = 0\n",
    "    for (X_tr,y_tr) in trainloader:\n",
    "        X_tr,y_tr = X_tr.to(device),y_tr.to(device)\n",
    "        logits = model(X_tr)\n",
    "        loss = criterion(logits,y_tr)\n",
    "        optimizer.zero_grad()\n",
    "        loss.backward()\n",
    "        optimizer.step()\n",
    "        loss_tr_total += loss.item()\n",
    "    loss_tr.append(loss_tr_total/len(trainloader))\n",
    "\n",
    "    # dev loop\n",
    "    model.eval()\n",
    "    loss_dev_total = 0\n",
    "    for (X_dv,y_dv) in devloader:\n",
    "        X_dv,y_dv = X_dv.to(device),y_dv.to(device)\n",
    "        logits = model(X_dv)\n",
    "        loss = criterion(logits,y_dv)\n",
    "        loss_dev_total += loss.item()\n",
    "    loss_dev.append(loss_dev_total/len(devloader))\n",
    "plt.plot(loss_tr,label='train')\n",
    "plt.plot(loss_dev,label='dev')\n",
    "plt.legend()"
   ]
  },
  {
   "cell_type": "code",
   "execution_count": null,
   "metadata": {},
   "outputs": [],
   "source": [
    "from sklearn.metrics import f1_score,recall_score,precision_score\n",
    "f1i = []\n",
    "recalli = []\n",
    "precisioni = []\n",
    "for idx in test_idx:\n",
    "    X,y = load_and_window_nursing_list([idx])\n",
    "    loss,y_true,y_pred = test_evaluation(DataLoader(TensorDataset(X,y),batch_size=32,shuffle=True),model,criterion,plot=True)\n",
    "    f1i.append(f1_score(y_true=y_true,y_pred=y_pred.round(),average='macro'))\n",
    "    recalli.append(recall_score(y_true=y_true,y_pred=y_pred.round(),average='macro'))\n",
    "    precisioni.append(precision_score(y_true=y_true,y_pred=y_pred.round(),average='macro'))"
   ]
  },
  {
   "cell_type": "code",
   "execution_count": null,
   "metadata": {},
   "outputs": [],
   "source": [
    "sns.kdeplot(recalli,bw_adjust=.4)\n",
    "sns.rugplot(recalli)\n",
    "print(torch.tensor(recalli).mean()) #.4958\n",
    "print(torch.tensor(recalli).std()) #.0063"
   ]
  },
  {
   "cell_type": "code",
   "execution_count": null,
   "metadata": {},
   "outputs": [],
   "source": [
    "sns.kdeplot(f1i,bw_adjust=.4)\n",
    "sns.rugplot(f1i)\n",
    "print(torch.tensor(f1i).mean()) #.4958\n",
    "print(torch.tensor(f1i).std()) #.0063"
   ]
  },
  {
   "cell_type": "code",
   "execution_count": null,
   "metadata": {},
   "outputs": [],
   "source": [
    "sns.kdeplot(precisioni,bw_adjust=.4)\n",
    "sns.rugplot(precisioni)\n",
    "print(torch.tensor(precisioni).mean()) #.4958\n",
    "print(torch.tensor(precisioni).std()) #.0063"
   ]
  }
 ],
 "metadata": {
  "kernelspec": {
   "display_name": "Python 3.10.6 64-bit",
   "language": "python",
   "name": "python3"
  },
  "language_info": {
   "codemirror_mode": {
    "name": "ipython",
    "version": 3
   },
   "file_extension": ".py",
   "mimetype": "text/x-python",
   "name": "python",
   "nbconvert_exporter": "python",
   "pygments_lexer": "ipython3",
   "version": "3.10.6"
  },
  "orig_nbformat": 4,
  "vscode": {
   "interpreter": {
    "hash": "916dbcbb3f70747c44a77c7bcd40155683ae19c65e1c03b4aa3499c5328201f1"
   }
  }
 },
 "nbformat": 4,
 "nbformat_minor": 2
}
