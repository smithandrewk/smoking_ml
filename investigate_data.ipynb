{
 "cells": [
  {
   "cell_type": "code",
   "execution_count": null,
   "metadata": {},
   "outputs": [],
   "source": [
    "import pandas as pd\n",
    "df = pd.read_csv(f'../data/nursing/5/raw_data.csv',header=None)\n",
    "df[7] = df[7].astype('datetime64')\n",
    "print(df[7][len(df)-1]-df[7][0])\n",
    "hypothesized_fs = 100\n",
    "print((len(df)/hypothesized_fs)/60)\n",
    "import plotly.express as px\n",
    "fig = px.line(df)\n",
    "fig.show(renderer='browser')"
   ]
  }
 ],
 "metadata": {
  "kernelspec": {
   "display_name": "Python 3.10.6 64-bit",
   "language": "python",
   "name": "python3"
  },
  "language_info": {
   "name": "python",
   "version": "3.10.6"
  },
  "orig_nbformat": 4,
  "vscode": {
   "interpreter": {
    "hash": "916dbcbb3f70747c44a77c7bcd40155683ae19c65e1c03b4aa3499c5328201f1"
   }
  }
 },
 "nbformat": 4,
 "nbformat_minor": 2
}
