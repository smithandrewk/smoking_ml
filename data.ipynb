{
 "cells": [
  {
   "cell_type": "code",
   "execution_count": 81,
   "metadata": {},
   "outputs": [],
   "source": [
    "import pandas as pd\n",
    "import os\n",
    "import plotly.express as px"
   ]
  },
  {
   "cell_type": "code",
   "execution_count": 125,
   "metadata": {},
   "outputs": [
    {
     "name": "stdout",
     "output_type": "stream",
     "text": [
      "4.0183333333333335\n",
      "2023-06-01_11_55_55\n",
      "2\n"
     ]
    }
   ],
   "source": [
    "person = f'data/files'\n",
    "files = os.listdir(f'../{person}/')\n",
    "idx = 0\n",
    "sesh1 = pd.read_csv(f'../{person}/{files[idx]}/raw/{files[idx]}.0.csv',skiprows=1)\n",
    "\n",
    "print(len(sesh)/20/60)\n",
    "print(files[idx])\n",
    "print(len(files))\n",
    "fig = px.line(sesh,y=['acc_x','acc_y','acc_z'])\n",
    "fig.show(renderer='browser')"
   ]
  },
  {
   "cell_type": "code",
   "execution_count": 129,
   "metadata": {},
   "outputs": [],
   "source": [
    "sesh = sesh.iloc[100:-100].reset_index(drop=True)"
   ]
  },
  {
   "cell_type": "code",
   "execution_count": 144,
   "metadata": {},
   "outputs": [
    {
     "name": "stdout",
     "output_type": "stream",
     "text": [
      "56.965\n",
      "2023-06-02_12_15_59\n",
      "19\n"
     ]
    }
   ],
   "source": [
    "person = f'data/riley'\n",
    "files = os.listdir(f'../{person}/')\n",
    "idx = 3\n",
    "surrogate = pd.read_csv(f'../{person}/{files[idx]}/raw/{files[idx]}.0.csv',skiprows=1)\n",
    "print(len(surrogate)/20/60)\n",
    "print(files[idx])\n",
    "print(len(files))\n",
    "fig = px.line(surrogate,y=['acc_x','acc_y','acc_z'])\n",
    "fig.show(renderer='browser')"
   ]
  },
  {
   "cell_type": "code",
   "execution_count": 132,
   "metadata": {},
   "outputs": [],
   "source": [
    "# file 0\n",
    "person = f'data/riley'\n",
    "files = os.listdir(f'../{person}/')\n",
    "idx = 2\n",
    "surrogate = pd.read_csv(f'../{person}/{files[idx]}/raw/{files[idx]}.0.csv',skiprows=1)\n",
    "person = f'data/files'\n",
    "files = os.listdir(f'../{person}/')\n",
    "idx = 0\n",
    "sesh1 = pd.read_csv(f'../{person}/{files[idx]}/raw/{files[idx]}.0.csv',skiprows=1)\n",
    "person = f'data/files'\n",
    "files = os.listdir(f'../{person}/')\n",
    "idx = 1\n",
    "sesh2 = pd.read_csv(f'../{person}/{files[idx]}/raw/{files[idx]}.0.csv',skiprows=1)\n",
    "tmp = pd.concat([surrogate.iloc[:30000],sesh1,surrogate.iloc[30000:70000],sesh2,surrogate.iloc[70000:]]).reset_index(drop=True)\n",
    "tmp.to_csv('data.csv',index=False)"
   ]
  },
  {
   "cell_type": "code",
   "execution_count": 145,
   "metadata": {},
   "outputs": [],
   "source": [
    "# file 1\n",
    "person = f'data/riley'\n",
    "files = os.listdir(f'../{person}/')\n",
    "idx = 3\n",
    "surrogate = pd.read_csv(f'../{person}/{files[idx]}/raw/{files[idx]}.0.csv',skiprows=1)\n",
    "person = f'data/files'\n",
    "files = os.listdir(f'../{person}/')\n",
    "idx = 2\n",
    "sesh1 = pd.read_csv(f'../{person}/{files[idx]}/raw/{files[idx]}.0.csv',skiprows=1)\n",
    "person = f'data/files'\n",
    "files = os.listdir(f'../{person}/')\n",
    "idx = 1\n",
    "sesh2 = pd.read_csv(f'../{person}/{files[idx]}/raw/{files[idx]}.0.csv',skiprows=1)\n",
    "tmp = pd.concat([surrogate.iloc[:10000],sesh1,surrogate.iloc[10000:56000],sesh2,surrogate.iloc[56000:]]).reset_index(drop=True)\n",
    "tmp.to_csv('data2.csv',index=False)"
   ]
  }
 ],
 "metadata": {
  "kernelspec": {
   "display_name": "Python 3",
   "language": "python",
   "name": "python3"
  },
  "language_info": {
   "codemirror_mode": {
    "name": "ipython",
    "version": 3
   },
   "file_extension": ".py",
   "mimetype": "text/x-python",
   "name": "python",
   "nbconvert_exporter": "python",
   "pygments_lexer": "ipython3",
   "version": "3.11.4"
  },
  "orig_nbformat": 4
 },
 "nbformat": 4,
 "nbformat_minor": 2
}
