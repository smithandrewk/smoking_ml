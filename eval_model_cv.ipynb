{
 "cells": [
  {
   "cell_type": "code",
   "execution_count": null,
   "metadata": {},
   "outputs": [],
   "source": [
    "import torch\n",
    "from torch import nn\n",
    "from tqdm import tqdm\n",
    "\n",
    "from lib.utils import *\n",
    "from lib.models import *\n",
    "\n",
    "from sklearn.metrics import f1_score,recall_score,precision_score\n",
    "\n",
    "window_size = 101\n",
    "device = 'cuda'\n",
    "f1i = []\n",
    "recalli = []\n",
    "precisioni = []\n",
    "model_name = 'fcn'\n",
    "for i in range(5):\n",
    "    model = FCN()\n",
    "    model.load_state_dict(torch.load(f=f'../projects/{model_name}_cv_{i}/best_model.pt',map_location='cuda:0'))\n",
    "    # trainloader,devloader,test_idx = load_data_cv(foldi=i)\n",
    "    trainloader,devloader,test_idx = load_data_convolution_cv(foldi=i)\n",
    "    model.to(device)\n",
    "    criterion = nn.BCEWithLogitsLoss()\n",
    "    test_evaluation(trainloader,model,criterion,dir=f'.',filename=f'{model_name}_cv_{i}_train.jpg',device=device)\n",
    "    test_evaluation(devloader,model,criterion,dir=f'.',filename=f'{model_name}_cv_{i}_dev.jpg',device=device)\n",
    "    X,y = load_and_window_nursing_list_for_convolution(test_idx)\n",
    "    # X,y = load_and_window_nursing_list(test_idx)\n",
    "    loss,y_true,y_pred = test_evaluation(DataLoader(TensorDataset(X,y),batch_size=32,shuffle=True),model,criterion,plot=True,filename=f'{model_name}_cv_{i}')\n",
    "    f1i.append(f1_score(y_true=y_true,y_pred=y_pred.round(),average='macro'))\n",
    "    recalli.append(recall_score(y_true=y_true,y_pred=y_pred.round(),average='macro'))\n",
    "    precisioni.append(precision_score(y_true=y_true,y_pred=y_pred.round(),average='macro'))\n",
    "    f1i = []\n",
    "    recalli = []\n",
    "    precisioni = []\n",
    "    for idx in test_idx:\n",
    "        X,y = load_and_window_nursing_list_for_convolution([idx])\n",
    "        loss,y_true,y_pred = test_evaluation(DataLoader(TensorDataset(X,y),batch_size=32,shuffle=True),model,criterion,plot=True)\n",
    "        f1i.append(f1_score(y_true=y_true,y_pred=y_pred.round(),average='macro'))\n",
    "        recalli.append(recall_score(y_true=y_true,y_pred=y_pred.round(),average='macro'))\n",
    "        precisioni.append(precision_score(y_true=y_true,y_pred=y_pred.round(),average='macro'))"
   ]
  },
  {
   "cell_type": "code",
   "execution_count": null,
   "metadata": {},
   "outputs": [],
   "source": [
    "plt.figure(figsize=(7.2,4.45),dpi=200)\n",
    "sns.kdeplot(recalli,bw_adjust=.4,color='red',label='recall')\n",
    "sns.rugplot(recalli,color='red',linewidth=1.618)\n",
    "print(torch.tensor(recalli).mean()) #.4958\n",
    "print(torch.tensor(recalli).std()) #.0063\n",
    "sns.kdeplot(f1i,bw_adjust=.4,color='green',label='f1')\n",
    "sns.rugplot(f1i,color='green',linewidth=1.618)\n",
    "print(torch.tensor(f1i).mean()) #.4958\n",
    "print(torch.tensor(f1i).std()) #.0063\n",
    "sns.kdeplot(precisioni,bw_adjust=.4,color='blue',label='precision')\n",
    "sns.rugplot(precisioni,color='blue',linewidth=1.618)\n",
    "print(torch.tensor(precisioni).mean()) #.4958\n",
    "print(torch.tensor(precisioni).std()) #.0063"
   ]
  },
  {
   "cell_type": "code",
   "execution_count": 56,
   "metadata": {},
   "outputs": [
    {
     "data": {
      "text/html": [
       "<div>\n",
       "<style scoped>\n",
       "    .dataframe tbody tr th:only-of-type {\n",
       "        vertical-align: middle;\n",
       "    }\n",
       "\n",
       "    .dataframe tbody tr th {\n",
       "        vertical-align: top;\n",
       "    }\n",
       "\n",
       "    .dataframe thead th {\n",
       "        text-align: right;\n",
       "    }\n",
       "</style>\n",
       "<table border=\"1\" class=\"dataframe\">\n",
       "  <thead>\n",
       "    <tr style=\"text-align: right;\">\n",
       "      <th></th>\n",
       "      <th>index</th>\n",
       "      <th>variable</th>\n",
       "      <th>value</th>\n",
       "    </tr>\n",
       "  </thead>\n",
       "  <tbody>\n",
       "    <tr>\n",
       "      <th>0</th>\n",
       "      <td>f1</td>\n",
       "      <td>0</td>\n",
       "      <td>0.786403</td>\n",
       "    </tr>\n",
       "    <tr>\n",
       "      <th>1</th>\n",
       "      <td>precision</td>\n",
       "      <td>0</td>\n",
       "      <td>0.812388</td>\n",
       "    </tr>\n",
       "    <tr>\n",
       "      <th>2</th>\n",
       "      <td>recall</td>\n",
       "      <td>0</td>\n",
       "      <td>0.764748</td>\n",
       "    </tr>\n",
       "    <tr>\n",
       "      <th>3</th>\n",
       "      <td>f1</td>\n",
       "      <td>1</td>\n",
       "      <td>0.755663</td>\n",
       "    </tr>\n",
       "    <tr>\n",
       "      <th>4</th>\n",
       "      <td>precision</td>\n",
       "      <td>1</td>\n",
       "      <td>0.768420</td>\n",
       "    </tr>\n",
       "    <tr>\n",
       "      <th>5</th>\n",
       "      <td>recall</td>\n",
       "      <td>1</td>\n",
       "      <td>0.744196</td>\n",
       "    </tr>\n",
       "    <tr>\n",
       "      <th>6</th>\n",
       "      <td>f1</td>\n",
       "      <td>2</td>\n",
       "      <td>0.694659</td>\n",
       "    </tr>\n",
       "    <tr>\n",
       "      <th>7</th>\n",
       "      <td>precision</td>\n",
       "      <td>2</td>\n",
       "      <td>0.751173</td>\n",
       "    </tr>\n",
       "    <tr>\n",
       "      <th>8</th>\n",
       "      <td>recall</td>\n",
       "      <td>2</td>\n",
       "      <td>0.660706</td>\n",
       "    </tr>\n",
       "    <tr>\n",
       "      <th>9</th>\n",
       "      <td>f1</td>\n",
       "      <td>3</td>\n",
       "      <td>0.754147</td>\n",
       "    </tr>\n",
       "    <tr>\n",
       "      <th>10</th>\n",
       "      <td>precision</td>\n",
       "      <td>3</td>\n",
       "      <td>0.773680</td>\n",
       "    </tr>\n",
       "    <tr>\n",
       "      <th>11</th>\n",
       "      <td>recall</td>\n",
       "      <td>3</td>\n",
       "      <td>0.737487</td>\n",
       "    </tr>\n",
       "    <tr>\n",
       "      <th>12</th>\n",
       "      <td>f1</td>\n",
       "      <td>4</td>\n",
       "      <td>0.768253</td>\n",
       "    </tr>\n",
       "    <tr>\n",
       "      <th>13</th>\n",
       "      <td>precision</td>\n",
       "      <td>4</td>\n",
       "      <td>0.793485</td>\n",
       "    </tr>\n",
       "    <tr>\n",
       "      <th>14</th>\n",
       "      <td>recall</td>\n",
       "      <td>4</td>\n",
       "      <td>0.747391</td>\n",
       "    </tr>\n",
       "  </tbody>\n",
       "</table>\n",
       "</div>"
      ],
      "text/plain": [
       "        index variable     value\n",
       "0          f1        0  0.786403\n",
       "1   precision        0  0.812388\n",
       "2      recall        0  0.764748\n",
       "3          f1        1  0.755663\n",
       "4   precision        1  0.768420\n",
       "5      recall        1  0.744196\n",
       "6          f1        2  0.694659\n",
       "7   precision        2  0.751173\n",
       "8      recall        2  0.660706\n",
       "9          f1        3  0.754147\n",
       "10  precision        3  0.773680\n",
       "11     recall        3  0.737487\n",
       "12         f1        4  0.768253\n",
       "13  precision        4  0.793485\n",
       "14     recall        4  0.747391"
      ]
     },
     "execution_count": 56,
     "metadata": {},
     "output_type": "execute_result"
    },
    {
     "data": {
      "image/png": "[encoded data removed]",
      "text/plain": [
       "<Figure size 640x480 with 1 Axes>"
      ]
     },
     "metadata": {},
     "output_type": "display_data"
    }
   ],
   "source": [
    "df = pd.DataFrame([f1i,precisioni,recalli],index=['f1','precision','recall'])\n",
    "df_melted = df.reset_index().melt(id_vars=['index'])\n",
    "sns.barplot(data=df_melted,x='variable',y='value',hue='index')\n",
    "plt.xlabel('fold index')\n",
    "plt.ylabel('score')\n",
    "df_melted"
   ]
  },
  {
   "cell_type": "code",
   "execution_count": null,
   "metadata": {},
   "outputs": [],
   "source": [
    "from sklearn.metrics import f1_score,recall_score,precision_score\n"
   ]
  },
  {
   "cell_type": "code",
   "execution_count": null,
   "metadata": {},
   "outputs": [],
   "source": []
  },
  {
   "cell_type": "code",
   "execution_count": null,
   "metadata": {},
   "outputs": [],
   "source": []
  },
  {
   "cell_type": "code",
   "execution_count": null,
   "metadata": {},
   "outputs": [],
   "source": []
  },
  {
   "cell_type": "code",
   "execution_count": 57,
   "metadata": {},
   "outputs": [
    {
     "name": "stderr",
     "output_type": "stream",
     "text": [
      "100%|██████████| 1010/1010 [00:00<00:00, 1041.37it/s]\n"
     ]
    },
    {
     "data": {
      "image/png": "[encoded data removed]",
      "text/plain": [
       "<Figure size 1000x500 with 3 Axes>"
      ]
     },
     "metadata": {},
     "output_type": "display_data"
    }
   ],
   "source": [
    "idx = test_idx[0]\n",
    "import plotly.express as px\n",
    "holdoutloader = DataLoader(TensorDataset(*load_and_window_nursing_list_for_convolution([idx])),batch_size=32,shuffle=False)\n",
    "loss,y_true,y_pred = test_evaluation(holdoutloader,model,criterion)\n",
    "X,y = load_nursing_by_index(idx)\n",
    "df = pd.DataFrame(X.numpy())\n",
    "df['y_pred'] = torch.cat([torch.zeros(window_size//2),y_pred.flatten().round(),torch.zeros(window_size//2)])*10\n",
    "df['y_true'] = y*10\n",
    "fig = px.line(df)\n",
    "fig.show(renderer='browser')"
   ]
  },
  {
   "cell_type": "code",
   "execution_count": null,
   "metadata": {},
   "outputs": [],
   "source": []
  }
 ],
 "metadata": {
  "kernelspec": {
   "display_name": "Python 3.10.6 64-bit",
   "language": "python",
   "name": "python3"
  },
  "language_info": {
   "codemirror_mode": {
    "name": "ipython",
    "version": 3
   },
   "file_extension": ".py",
   "mimetype": "text/x-python",
   "name": "python",
   "nbconvert_exporter": "python",
   "pygments_lexer": "ipython3",
   "version": "3.10.6"
  },
  "orig_nbformat": 4,
  "vscode": {
   "interpreter": {
    "hash": "916dbcbb3f70747c44a77c7bcd40155683ae19c65e1c03b4aa3499c5328201f1"
   }
  }
 },
 "nbformat": 4,
 "nbformat_minor": 2
}
