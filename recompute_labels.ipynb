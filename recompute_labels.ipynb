{
 "cells": [
  {
   "cell_type": "code",
   "execution_count": 1,
   "metadata": {},
   "outputs": [],
   "source": [
    "import pandas as pd\n",
    "import torch\n",
    "import matplotlib.pyplot as plt\n",
    "import numpy as np\n",
    "import plotly.express as px\n",
    "from lib.utils import forward_casey,forward_casey_corrected,run_new_state_machine_on_thresholded_predictions\n",
    "\n",
    "def read_raw_delta(dir):\n",
    "    df = pd.read_csv(dir,skiprows=1).drop('activity',axis=1)\n",
    "    return df\n",
    "def get_windowed_from_raw(raw_dataframe):\n",
    "    X = torch.from_numpy(raw_dataframe[['acc_x','acc_y','acc_z']].to_numpy())\n",
    "    x = X[:,0].unsqueeze(1)\n",
    "    y = X[:,1].unsqueeze(1)\n",
    "    z = X[:,2].unsqueeze(1)\n",
    "    xs = [x[:-99]]\n",
    "    ys = [y[:-99]]\n",
    "    zs = [z[:-99]]\n",
    "    for i in range(1,99):\n",
    "        xs.append(x[i:i-99])\n",
    "        ys.append(y[i:i-99])\n",
    "        zs.append(z[i:i-99])\n",
    "    xs.append(x[99:])\n",
    "    ys.append(y[99:])\n",
    "    zs.append(z[99:])\n",
    "    xs = torch.cat(xs,axis=1).float()\n",
    "    ys = torch.cat(ys,axis=1).float()\n",
    "    zs = torch.cat(zs,axis=1).float()\n",
    "    X = torch.cat([xs,ys,zs],axis=1)\n",
    "    return X"
   ]
  },
  {
   "cell_type": "code",
   "execution_count": 2,
   "metadata": {},
   "outputs": [],
   "source": [
    "df = read_raw_delta(f'../data/thrasher/2022-12-06_12_56_06/raw/2022-12-06_12_56_06.0.csv')\n",
    "X = get_windowed_from_raw(df)\n",
    "fig = px.line(df,y=['acc_x','acc_y','acc_z'])\n",
    "fig.show(renderer='browser')"
   ]
  },
  {
   "cell_type": "code",
   "execution_count": 3,
   "metadata": {},
   "outputs": [
    {
     "name": "stdout",
     "output_type": "stream",
     "text": [
      "-942.140173126\n"
     ]
    },
    {
     "data": {
      "image/png": "[encoded data removed]",
      "text/plain": [
       "<Figure size 640x480 with 1 Axes>"
      ]
     },
     "metadata": {},
     "output_type": "display_data"
    }
   ],
   "source": [
    "(df.timestamp[len(df)-1]-df.timestamp[0])/1e9\n",
    "len(df)/20\n",
    "df.timestamp.diff().plot()\n",
    "plt.plot(np.ones(len(df))*5e7)\n",
    "print(((5e7*(len(df)-1))-df.timestamp.diff().sum())/1e9)"
   ]
  },
  {
   "cell_type": "code",
   "execution_count": 4,
   "metadata": {},
   "outputs": [
    {
     "name": "stderr",
     "output_type": "stream",
     "text": [
      "100%|██████████| 6517/6517 [00:00<00:00, 20959.25it/s]\n",
      "100%|██████████| 6517/6517 [00:00<00:00, 11009.35it/s]\n"
     ]
    }
   ],
   "source": [
    "labels_recomputed = forward_casey(X)\n",
    "df['raw_recomputed'] = labels_recomputed\n",
    "labels_recomputed = [1 if y > .85 else 0 for y in labels_recomputed]\n",
    "df['label_recomputed'] = labels_recomputed\n",
    "\n",
    "labels_recomputed_corrected = forward_casey_corrected(X)\n",
    "df['raw_recomputed_corrected'] = labels_recomputed_corrected\n",
    "labels_recomputed_corrected = [1 if y > .85 else 0 for y in labels_recomputed_corrected]\n",
    "df['label_recomputed_corrected'] = labels_recomputed_corrected\n",
    "\n",
    "states,puff_locations = run_new_state_machine_on_thresholded_predictions(labels_recomputed)\n",
    "states_corrected,puff_locations_corrected = run_new_state_machine_on_thresholded_predictions(labels_recomputed_corrected)"
   ]
  },
  {
   "cell_type": "code",
   "execution_count": 5,
   "metadata": {},
   "outputs": [],
   "source": [
    "df['rawlabel_10'] = df['rawlabel']*10\n",
    "df['raw_recomputed_10'] = df['raw_recomputed']*10\n",
    "df['label_recomputed_10'] = df['label_recomputed']*10\n",
    "df['label_recomputed_corrected_10'] = df['label_recomputed_corrected']*10\n",
    "df['label_10'] = df['label']*10\n",
    "df['raw_recomputed_corrected_10'] = df['raw_recomputed_corrected']*10\n",
    "df['state_recomputed'] = states\n",
    "df['state_recomputed_corrected'] = states_corrected\n",
    "fig = px.line(df,y=['state','state_recomputed_corrected'])\n",
    "fig.show(renderer='browser')"
   ]
  }
 ],
 "metadata": {
  "kernelspec": {
   "display_name": "Python 3.10.6 64-bit",
   "language": "python",
   "name": "python3"
  },
  "language_info": {
   "codemirror_mode": {
    "name": "ipython",
    "version": 3
   },
   "file_extension": ".py",
   "mimetype": "text/x-python",
   "name": "python",
   "nbconvert_exporter": "python",
   "pygments_lexer": "ipython3",
   "version": "3.10.12"
  },
  "orig_nbformat": 4,
  "vscode": {
   "interpreter": {
    "hash": "916dbcbb3f70747c44a77c7bcd40155683ae19c65e1c03b4aa3499c5328201f1"
   }
  }
 },
 "nbformat": 4,
 "nbformat_minor": 2
}
