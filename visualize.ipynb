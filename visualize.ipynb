{
 "cells": [
  {
   "cell_type": "code",
   "execution_count": 19,
   "metadata": {},
   "outputs": [
    {
     "data": {
      "text/plain": [
       "{'start': 0,\n",
       " 'end': -1,\n",
       " 'puffs': [{'start': 31337, 'end': 31408},\n",
       "  {'start': 31418, 'end': 31513},\n",
       "  {'start': 31727, 'end': 31815},\n",
       "  {'start': 32637, 'end': 32745},\n",
       "  {'start': 33236, 'end': 33327},\n",
       "  {'start': 33628, 'end': 33742},\n",
       "  {'start': 34317, 'end': 34428},\n",
       "  {'start': 75043, 'end': 75161},\n",
       "  {'start': 76162, 'end': 76263},\n",
       "  {'start': 77133, 'end': 77218},\n",
       "  {'start': 77957, 'end': 78047},\n",
       "  {'start': 78722, 'end': 78817},\n",
       "  {'start': 79512, 'end': 79611}]}"
      ]
     },
     "execution_count": 19,
     "metadata": {},
     "output_type": "execute_result"
    }
   ],
   "source": [
    "import pandas as pd\n",
    "import json\n",
    "import plotly.express as px\n",
    "\n",
    "df = pd.read_csv(f'data.csv')\n",
    "with open(f'data.json', 'r', encoding='utf-8') as f:\n",
    "    labels = json.load(f)\n",
    "fig = px.line(df,y='acc_x')\n",
    "for bout in labels['puffs']:\n",
    "    fig.add_vrect(x0=bout['start'], x1=bout['end'], fillcolor='red', opacity=.3)\n",
    "fig.show(renderer='browser')"
   ]
  },
  {
   "cell_type": "code",
   "execution_count": null,
   "metadata": {},
   "outputs": [],
   "source": []
  }
 ],
 "metadata": {
  "kernelspec": {
   "display_name": "Python 3",
   "language": "python",
   "name": "python3"
  },
  "language_info": {
   "codemirror_mode": {
    "name": "ipython",
    "version": 3
   },
   "file_extension": ".py",
   "mimetype": "text/x-python",
   "name": "python",
   "nbconvert_exporter": "python",
   "pygments_lexer": "ipython3",
   "version": "3.11.4"
  },
  "orig_nbformat": 4
 },
 "nbformat": 4,
 "nbformat_minor": 2
}
