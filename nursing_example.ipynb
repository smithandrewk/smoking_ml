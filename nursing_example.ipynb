{
 "cells": [
  {
   "cell_type": "code",
   "execution_count": null,
   "metadata": {},
   "outputs": [],
   "source": [
    "from lib.utils import *\n",
    "import plotly.express as px\n",
    "import pandas as pd\n",
    "import torch\n",
    "import matplotlib.pyplot as plt\n",
    "from torch.utils.data import DataLoader,TensorDataset\n",
    "from torch import nn\n",
    "from torch.nn.functional import relu\n",
    "from tqdm import tqdm\n",
    "from sklearn.model_selection import train_test_split\n",
    "import plotly.express as px\n",
    "from sklearn.metrics import f1_score,recall_score,precision_score\n",
    "import seaborn as sns"
   ]
  },
  {
   "cell_type": "code",
   "execution_count": null,
   "metadata": {},
   "outputs": [],
   "source": [
    "skip_idx = [19,24,26,32,34,38,40,45,52,55,70]\n",
    "train_idx = [0]\n",
    "X,y = load_nursing_by_index(0)\n",
    "X = X[:,0].unsqueeze(1)\n",
    "torch.manual_seed(1337)\n",
    "batch_size = 4\n",
    "block_size = 5\n",
    "def get_batch():\n",
    "    ix = torch.randint(len(X)-block_size,(batch_size,))\n",
    "    xi = torch.stack([X[i:i+block_size] for i in ix])\n",
    "    yi = torch.stack([y[i:i+block_size] for i in ix])\n",
    "    return xi,yi\n",
    "xb,yb = get_batch()\n",
    "for b in range(batch_size):\n",
    "    for t in range(block_size):\n",
    "        context = xb[b,:t+1]\n",
    "        target = yb[b,t]\n",
    "        print(context,target)"
   ]
  },
  {
   "cell_type": "code",
   "execution_count": null,
   "metadata": {},
   "outputs": [],
   "source": [
    "xb.shape"
   ]
  },
  {
   "cell_type": "code",
   "execution_count": null,
   "metadata": {},
   "outputs": [],
   "source": [
    "class MODEL(nn.Module):\n",
    "    def __init__(self):\n",
    "        super().__init__()\n",
    "        self.lstm = nn.LSTM(input_size=3,hidden_size=4,bidirectional=True)\n",
    "        self.fc1 = nn.Linear(8,1)\n",
    "    \n",
    "    def forward(self, x):\n",
    "        o,_ = self.lstm(x)\n",
    "        x = self.fc1(o)\n",
    "        return x,o\n",
    "device = 'cuda'\n",
    "model = MODEL().to(device=device)\n",
    "criterion = nn.BCEWithLogitsLoss()\n",
    "optimizer = torch.optim.Adam(model.parameters())\n",
    "params = sum([p.flatten().size()[0] for p in list(model.parameters())])\n",
    "print(\"Params: \",params)"
   ]
  },
  {
   "cell_type": "code",
   "execution_count": null,
   "metadata": {},
   "outputs": [],
   "source": [
    "lossi = []\n",
    "model.train()\n",
    "\n",
    "for i in tqdm(range(100)):\n",
    "    logits,_ = model(X.cuda())\n",
    "    loss = criterion(logits,y.cuda())\n",
    "    optimizer.zero_grad()\n",
    "    loss.backward()\n",
    "    optimizer.step()\n",
    "    lossi.append(loss.item())\n",
    "plt.plot(lossi)\n",
    "print(torch.tensor(lossi).mean())"
   ]
  },
  {
   "cell_type": "code",
   "execution_count": null,
   "metadata": {},
   "outputs": [],
   "source": [
    "lossi = []\n",
    "f1i = []\n",
    "recalli = []\n",
    "precisioni = []\n",
    "for idx in tqdm(range(71)):\n",
    "    if(idx in skip_idx or idx in train_idx):\n",
    "        continue\n",
    "    Xi,yi = load_nursing_by_index(idx)\n",
    "    logits = model(Xi.cuda())[0]\n",
    "    lossi.append(criterion(logits,yi.cuda()).item())\n",
    "    y_pred = torch.sigmoid(logits).detach().cpu().round().numpy()\n",
    "    f1i.append(f1_score(y_true=yi,y_pred=y_pred,average='macro'))\n",
    "    recalli.append(recall_score(y_true=yi,y_pred=y_pred,average='macro'))\n",
    "    precisioni.append(precision_score(y_true=yi,y_pred=y_pred,average='macro'))"
   ]
  },
  {
   "cell_type": "code",
   "execution_count": null,
   "metadata": {},
   "outputs": [],
   "source": [
    "sns.kdeplot(f1i,bw_adjust=.4,label='f1')\n",
    "print('f1',torch.tensor(f1i).mean()) #.5579\n",
    "print('f1',torch.tensor(f1i).std()) #.1294\n",
    "sns.kdeplot(recalli,bw_adjust=.4,label='recall')\n",
    "print('recall',torch.tensor(recalli).mean()) #.7122\n",
    "print('recall',torch.tensor(recalli).std()) #.1294\n",
    "sns.kdeplot(precisioni,bw_adjust=.4,label='precision')\n",
    "print('precision',torch.tensor(precisioni).mean()) #.7122\n",
    "print('precision',torch.tensor(precisioni).std()) #.1294\n",
    "plt.legend()"
   ]
  },
  {
   "cell_type": "code",
   "execution_count": null,
   "metadata": {},
   "outputs": [],
   "source": [
    "feature_maps = model.c1(X.T.cuda())\n",
    "fig,axes = plt.subplots(nrows=len(feature_maps),ncols=1,figsize=(20,20))\n",
    "for i in range(len(feature_maps)):\n",
    "    axes[i].plot(feature_maps[i][25000:].detach().cpu())\n",
    "plt.savefig('kernels.jpg',dpi=500)"
   ]
  },
  {
   "cell_type": "code",
   "execution_count": null,
   "metadata": {},
   "outputs": [],
   "source": [
    "Xt,yt = load_nursing_by_index(5)\n",
    "df = pd.DataFrame(Xt.numpy())\n",
    "df['y'] = yt.numpy()*10\n",
    "logits,o = model(Xt.cuda())\n",
    "df['y_pred'] = torch.sigmoid(logits).detach().cpu().round().numpy()*10\n",
    "# df[['h1','h2','h3','h4','h5','h6','h7','h8']] = o.detach().cpu().numpy()*5+30\n",
    "fig = px.line(df)\n",
    "fig.show(renderer='browser')"
   ]
  },
  {
   "cell_type": "code",
   "execution_count": null,
   "metadata": {},
   "outputs": [],
   "source": [
    "lossi = []\n",
    "model.train()\n",
    "\n",
    "for i in range(1):\n",
    "    for (X_tr,y_tr) in tqdm(trainloader):\n",
    "        X_tr,y_tr = X_tr.to(device),y_tr.to(device)\n",
    "        logits = model(X_tr)\n",
    "        loss = criterion(logits,y_tr)\n",
    "        optimizer.zero_grad()\n",
    "        loss.backward()\n",
    "        optimizer.step()\n",
    "        lossi.append(loss.item())\n",
    "plt.plot(lossi)\n",
    "print(torch.tensor(lossi).mean())"
   ]
  },
  {
   "cell_type": "code",
   "execution_count": null,
   "metadata": {},
   "outputs": [],
   "source": [
    "loss_tr = []\n",
    "loss_dev = []\n",
    "pbar = tqdm(range(5))\n",
    "\n",
    "for epoch in pbar:\n",
    "    # train loop\n",
    "    model.train()\n",
    "    loss_tr_total = 0\n",
    "    for (X_tr,y_tr) in trainloader:\n",
    "        X_tr,y_tr = X_tr.to(device),y_tr.to(device)\n",
    "        logits = model(X_tr)\n",
    "        loss = criterion(logits,y_tr)\n",
    "        optimizer.zero_grad()\n",
    "        loss.backward()\n",
    "        optimizer.step()\n",
    "        loss_tr_total += loss.item()\n",
    "    loss_tr.append(loss_tr_total/len(trainloader))\n",
    "\n",
    "    # dev loop\n",
    "    model.eval()\n",
    "    loss_dev_total = 0\n",
    "    for (X_dv,y_dv) in devloader:\n",
    "        X_dv,y_dv = X_dv.to(device),y_dv.to(device)\n",
    "        logits = model(X_dv)\n",
    "        loss = criterion(logits,y_dv)\n",
    "        loss_dev_total += loss.item()\n",
    "    loss_dev.append(loss_dev_total/len(devloader))\n",
    "plt.plot(loss_tr,label='train')\n",
    "plt.plot(loss_dev,label='dev')\n",
    "plt.legend()"
   ]
  },
  {
   "cell_type": "code",
   "execution_count": null,
   "metadata": {},
   "outputs": [],
   "source": [
    "_,_,y_pred = test_evaluation(trainloader,model,criterion)\n",
    "_,_,y_pred = test_evaluation(devloader,model,criterion)\n",
    "# train : .0749 \n",
    "# dev : .0785"
   ]
  },
  {
   "cell_type": "code",
   "execution_count": null,
   "metadata": {},
   "outputs": [],
   "source": [
    "idx = 0\n",
    "\n",
    "holdoutloader = DataLoader(TensorDataset(*load_and_window_nursing_by_index(idx,window_size=window_size)),batch_size=32,shuffle=False)\n",
    "loss,y_true,y_pred = test_evaluation(holdoutloader,model,criterion)\n",
    "X,y = load_nursing_by_index(idx)\n",
    "df = pd.DataFrame(X.numpy())\n",
    "df['y_pred'] = torch.cat([torch.zeros(window_size//2),y_pred.flatten().round(),torch.zeros(window_size//2)])*10\n",
    "df['y_true'] = y*10\n",
    "fig = px.line(df)\n",
    "fig.show(renderer='browser')"
   ]
  },
  {
   "cell_type": "code",
   "execution_count": null,
   "metadata": {},
   "outputs": [],
   "source": [
    "f1i = []\n",
    "for idx in tqdm(range(71)):\n",
    "    if(idx in skip_idx or idx in train_idx):\n",
    "        continue\n",
    "    X,y = load_and_window_nursing_by_index(idx,window_size=window_size)\n",
    "    y_pred = torch.sigmoid(model(X.cuda())).round().detach().cpu()\n",
    "    f1i.append(f1_score(y_true=y,y_pred=y_pred,average='macro'))\n",
    "\n",
    "sns.kdeplot(f1i,bw_adjust=.4)\n",
    "print(torch.tensor(f1i).mean()) #.7122\n",
    "print(torch.tensor(f1i).std()) #.1294\n"
   ]
  }
 ],
 "metadata": {
  "kernelspec": {
   "display_name": "Python 3.10.6 64-bit",
   "language": "python",
   "name": "python3"
  },
  "language_info": {
   "codemirror_mode": {
    "name": "ipython",
    "version": 3
   },
   "file_extension": ".py",
   "mimetype": "text/x-python",
   "name": "python",
   "nbconvert_exporter": "python",
   "pygments_lexer": "ipython3",
   "version": "3.10.6"
  },
  "orig_nbformat": 4,
  "vscode": {
   "interpreter": {
    "hash": "916dbcbb3f70747c44a77c7bcd40155683ae19c65e1c03b4aa3499c5328201f1"
   }
  }
 },
 "nbformat": 4,
 "nbformat_minor": 2
}
