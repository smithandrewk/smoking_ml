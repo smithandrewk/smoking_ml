{
 "cells": [
  {
   "cell_type": "code",
   "execution_count": 1,
   "metadata": {},
   "outputs": [],
   "source": [
    "import os\n",
    "import pandas as pd\n",
    "import plotly.express as px\n",
    "from lib.env import *"
   ]
  },
  {
   "cell_type": "code",
   "execution_count": 3,
   "metadata": {},
   "outputs": [],
   "source": [
    "DATASET_PATH = f'{DATA_PATH}/winnie'\n",
    "RECORDING_IDS = os.listdir(DATASET_PATH)\n",
    "RECORDING_PATH = f'{DATASET_PATH}/{RECORDING_IDS[0]}/raw/{RECORDING_IDS[0]}.0.csv'\n",
    "df = pd.read_csv(RECORDING_PATH,skiprows=1)\n",
    "df = df.reset_index()\n",
    "fs = 20\n",
    "df.timestamp = (df.timestamp - df.timestamp[0])*1e-9\n",
    "df['index'] = df['index']/(fs*60) # index in minutes"
   ]
  },
  {
   "cell_type": "code",
   "execution_count": 4,
   "metadata": {},
   "outputs": [],
   "source": [
    "import torch\n",
    "X = torch.from_numpy(df[['acc_x','acc_y','acc_z']].to_numpy())\n",
    "x = X[:,0].unsqueeze(1)\n",
    "y = X[:,1].unsqueeze(1)\n",
    "z = X[:,2].unsqueeze(1)\n",
    "xs = [x[:-99]]\n",
    "ys = [y[:-99]]\n",
    "zs = [z[:-99]]\n",
    "for i in range(1,99):\n",
    "    xs.append(x[i:i-99])\n",
    "    ys.append(y[i:i-99])\n",
    "    zs.append(z[i:i-99])\n",
    "xs.append(x[99:])\n",
    "ys.append(y[99:])\n",
    "zs.append(z[99:])\n",
    "xs = torch.cat(xs,axis=1).float()\n",
    "ys = torch.cat(ys,axis=1).float()\n",
    "zs = torch.cat(zs,axis=1).float()\n",
    "X = torch.cat([xs,ys,zs],axis=1)"
   ]
  },
  {
   "cell_type": "code",
   "execution_count": 5,
   "metadata": {},
   "outputs": [],
   "source": [
    "from lib.models import Casey1p1\n",
    "model = Casey1p1()"
   ]
  },
  {
   "cell_type": "code",
   "execution_count": 6,
   "metadata": {},
   "outputs": [
    {
     "name": "stderr",
     "output_type": "stream",
     "text": [
      "100%|██████████| 104087/104087 [00:09<00:00, 10992.88it/s]\n"
     ]
    }
   ],
   "source": [
    "y_pred = model(X)\n",
    "df['y_pred'] = y_pred"
   ]
  },
  {
   "cell_type": "code",
   "execution_count": 13,
   "metadata": {},
   "outputs": [],
   "source": [
    "# see the difference in activation\n",
    "fig = px.line(df.iloc[::2],y=['rawlabel','y_pred'])\n",
    "fig.show(renderer='browser')"
   ]
  },
  {
   "cell_type": "code",
   "execution_count": 16,
   "metadata": {},
   "outputs": [],
   "source": [
    "y_true = df['rawlabel'].to_list()\n",
    "y_thresh_true = [1 if y > .85 else 0 for y in y_true]\n",
    "df['label'] = y_thresh_true"
   ]
  },
  {
   "cell_type": "code",
   "execution_count": 17,
   "metadata": {},
   "outputs": [],
   "source": [
    "y_thresh = [1 if y > .85 else 0 for y in y_pred]\n",
    "df['y_thresh'] = y_thresh"
   ]
  },
  {
   "cell_type": "code",
   "execution_count": 18,
   "metadata": {},
   "outputs": [],
   "source": [
    "fig = px.line(df.iloc[::2],y=['label','y_thresh'])\n",
    "fig.show(renderer='browser')"
   ]
  },
  {
   "cell_type": "code",
   "execution_count": 19,
   "metadata": {},
   "outputs": [],
   "source": [
    "y_state,puff_locations = run_new_state_machine_on_thresholded_predictions(y_thresh)"
   ]
  },
  {
   "cell_type": "code",
   "execution_count": 20,
   "metadata": {},
   "outputs": [],
   "source": [
    "df['y_state'] = y_state\n",
    "fig = px.line(df.iloc[::2],y=['state','y_state'])\n",
    "fig.show(renderer='browser')"
   ]
  },
  {
   "cell_type": "code",
   "execution_count": 21,
   "metadata": {},
   "outputs": [],
   "source": [
    "fig = px.line(df.iloc[::2],y=['state','y_state'])\n",
    "for puff_loc in puff_locations:\n",
    "    fig.add_vline(x=puff_loc)\n",
    "fig.show(renderer='browser')"
   ]
  },
  {
   "cell_type": "code",
   "execution_count": 29,
   "metadata": {},
   "outputs": [],
   "source": [
    "fig = px.line(df.iloc[::2],y=['acc_x','acc_y'])\n",
    "for puff_loc in puff_locations:\n",
    "    fig.add_vline(x=puff_loc)\n",
    "fig.show(renderer='browser')"
   ]
  }
 ],
 "metadata": {
  "kernelspec": {
   "display_name": "Python 3.10.12 64-bit",
   "language": "python",
   "name": "python3"
  },
  "language_info": {
   "codemirror_mode": {
    "name": "ipython",
    "version": 3
   },
   "file_extension": ".py",
   "mimetype": "text/x-python",
   "name": "python",
   "nbconvert_exporter": "python",
   "pygments_lexer": "ipython3",
   "version": "3.10.12"
  },
  "orig_nbformat": 4,
  "vscode": {
   "interpreter": {
    "hash": "916dbcbb3f70747c44a77c7bcd40155683ae19c65e1c03b4aa3499c5328201f1"
   }
  }
 },
 "nbformat": 4,
 "nbformat_minor": 2
}
