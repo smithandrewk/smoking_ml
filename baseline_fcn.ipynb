{
 "cells": [
  {
   "cell_type": "code",
   "execution_count": null,
   "metadata": {},
   "outputs": [],
   "source": [
    "from lib.imports import *"
   ]
  },
  {
   "cell_type": "code",
   "execution_count": null,
   "metadata": {},
   "outputs": [],
   "source": [
    "skip_idx = [19,24,26,32,34,38,40,45,52,55,70]\n",
    "train_idx = [0,1,2,3,4,5]\n",
    "window_size = 101\n",
    "X,y = load_and_window_nursing_list_for_convolution(train_idx,window_size=window_size)\n",
    "X_train,X_dev,y_train,y_dev = train_test_split(X,y,test_size=.5,stratify=y)\n",
    "trainloader = DataLoader(TensorDataset(X_train,y_train),batch_size=32,shuffle=True)\n",
    "devloader = DataLoader(TensorDataset(X_dev,y_dev),batch_size=32,shuffle=True)"
   ]
  },
  {
   "cell_type": "code",
   "execution_count": null,
   "metadata": {},
   "outputs": [],
   "source": [
    "from torch import nn\n",
    "class FCN(nn.Module):\n",
    "    def __init__(self) -> None:\n",
    "        super().__init__()\n",
    "        self.c1 = nn.Conv1d(in_channels=3,out_channels=128,kernel_size=8,stride=1)\n",
    "        self.bn1 = nn.BatchNorm1d(num_features=128)\n",
    "\n",
    "        self.c2 = nn.Conv1d(in_channels=128,out_channels=256,kernel_size=5,stride=1)\n",
    "        self.bn2 = nn.BatchNorm1d(num_features=256)\n",
    "\n",
    "        self.c3 = nn.Conv1d(in_channels=256,out_channels=128,kernel_size=3,stride=1)\n",
    "        self.bn3 = nn.BatchNorm1d(num_features=128)\n",
    "\n",
    "        self.gap = nn.AvgPool1d(kernel_size=88)\n",
    "        self.fc1 = nn.Linear(in_features=128,out_features=1)\n",
    "    def forward(self,x):\n",
    "        x = self.c1(x)\n",
    "        x = self.bn1(x)\n",
    "        x = relu(x)\n",
    "\n",
    "        x = self.c2(x)\n",
    "        x = self.bn2(x)\n",
    "        x = relu(x)\n",
    "\n",
    "        x = self.c3(x)\n",
    "        x = self.bn3(x)\n",
    "        x = relu(x)\n",
    "\n",
    "        x = self.gap(x)\n",
    "        x = self.fc1(x.squeeze(2))\n",
    "        return x\n",
    "device = 'cuda'\n",
    "model = FCN().to(device=device)\n",
    "criterion = nn.BCEWithLogitsLoss()\n",
    "optimizer = torch.optim.Adam(model.parameters())\n",
    "params = sum([p.flatten().size()[0] for p in list(model.parameters())])\n",
    "print(\"Params: \",params)"
   ]
  },
  {
   "cell_type": "code",
   "execution_count": null,
   "metadata": {},
   "outputs": [],
   "source": [
    "loss_tr = []\n",
    "loss_dev = []\n",
    "pbar = tqdm(range(20))\n",
    "\n",
    "for epoch in pbar:\n",
    "    # train loop\n",
    "    model.train()\n",
    "    loss_tr_total = 0\n",
    "    for (X_tr,y_tr) in trainloader:\n",
    "        X_tr,y_tr = X_tr.to(device),y_tr.to(device)\n",
    "        logits = model(X_tr)\n",
    "        loss = criterion(logits,y_tr)\n",
    "        optimizer.zero_grad()\n",
    "        loss.backward()\n",
    "        optimizer.step()\n",
    "        loss_tr_total += loss.item()\n",
    "    loss_tr.append(loss_tr_total/len(trainloader))\n",
    "\n",
    "    # dev loop\n",
    "    model.eval()\n",
    "    loss_dev_total = 0\n",
    "    for (X_dv,y_dv) in devloader:\n",
    "        X_dv,y_dv = X_dv.to(device),y_dv.to(device)\n",
    "        logits = model(X_dv)\n",
    "        loss = criterion(logits,y_dv)\n",
    "        loss_dev_total += loss.item()\n",
    "    loss_dev.append(loss_dev_total/len(devloader))\n",
    "plt.plot(loss_tr,label='train')\n",
    "plt.plot(loss_dev,label='dev')\n",
    "plt.legend()"
   ]
  },
  {
   "cell_type": "code",
   "execution_count": null,
   "metadata": {},
   "outputs": [],
   "source": [
    "test_evaluation(devloader,model,criterion)"
   ]
  },
  {
   "cell_type": "code",
   "execution_count": null,
   "metadata": {},
   "outputs": [],
   "source": [
    "from sklearn.metrics import f1_score\n",
    "f1i = []\n",
    "for idx in tqdm(range(71)):\n",
    "    if(idx in skip_idx or idx in train_idx):\n",
    "        continue\n",
    "    X,y = load_and_window_nursing_list_for_convolution([idx])\n",
    "    loss,y_true,y_pred = test_evaluation(DataLoader(TensorDataset(X,y),batch_size=32,shuffle=True),model,criterion,plot=True)\n",
    "    f1i.append(f1_score(y_true=y,y_pred=y_pred.round(),average='macro'))"
   ]
  },
  {
   "cell_type": "code",
   "execution_count": null,
   "metadata": {},
   "outputs": [],
   "source": [
    "sns.kdeplot(f1i,bw_adjust=.4)\n",
    "print(torch.tensor(f1i).mean()) #.4958\n",
    "print(torch.tensor(f1i).std()) #.0063"
   ]
  }
 ],
 "metadata": {
  "kernelspec": {
   "display_name": "Python 3.10.6 64-bit",
   "language": "python",
   "name": "python3"
  },
  "language_info": {
   "codemirror_mode": {
    "name": "ipython",
    "version": 3
   },
   "file_extension": ".py",
   "mimetype": "text/x-python",
   "name": "python",
   "nbconvert_exporter": "python",
   "pygments_lexer": "ipython3",
   "version": "3.10.6"
  },
  "orig_nbformat": 4,
  "vscode": {
   "interpreter": {
    "hash": "916dbcbb3f70747c44a77c7bcd40155683ae19c65e1c03b4aa3499c5328201f1"
   }
  }
 },
 "nbformat": 4,
 "nbformat_minor": 2
}
