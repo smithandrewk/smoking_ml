{
 "cells": [
  {
   "cell_type": "code",
   "execution_count": null,
   "metadata": {},
   "outputs": [],
   "source": [
    "import numpy as np\n",
    "import torch\n",
    "import matplotlib.pyplot as plt\n",
    "import random\n",
    "import pandas as pd\n",
    "def get_puff(puff_length_seconds=3,fs=20):\n",
    "    t = torch.linspace(0,(puff_length_seconds*fs)-1,puff_length_seconds*fs)\n",
    "    puff = torch.zeros(puff_length_seconds*fs)-9.81\n",
    "    edge = -2*t+9.81\n",
    "    puff[:10] = edge[:10]\n",
    "    puff[-10:] = edge[:10].flip(0)\n",
    "    return puff"
   ]
  },
  {
   "cell_type": "code",
   "execution_count": null,
   "metadata": {},
   "outputs": [],
   "source": [
    "fs = 20\n",
    "length_seconds = 60*60\n",
    "n_samples = length_seconds*fs\n",
    "t = torch.linspace(0,n_samples-1,n_samples)\n",
    "X = torch.zeros_like(t)+9.81\n",
    "y = torch.zeros_like(t)\n",
    "puff_idx = random.sample(list(t.long().numpy()),10)\n",
    "puff = get_puff()\n",
    "for idx in puff_idx:\n",
    "    X[idx:idx+len(puff)] = puff\n",
    "    y[idx:idx+len(puff)] = 1\n",
    "X = X.unsqueeze(1)\n",
    "y = y.unsqueeze(1)\n",
    "# df = pd.DataFrame([X,y]).T\n",
    "# import plotly.express as px\n",
    "# fig = px.line(df)\n",
    "# fig.show(renderer='browser')"
   ]
  },
  {
   "cell_type": "code",
   "execution_count": null,
   "metadata": {},
   "outputs": [],
   "source": [
    "from torch.utils.data import DataLoader,TensorDataset\n",
    "from torch import nn\n",
    "from torch.nn.functional import relu\n",
    "\n",
    "trainloader = DataLoader(TensorDataset(X,y),batch_size=32,shuffle=True)\n",
    "class MODEL(nn.Module):\n",
    "    \"\"\"\n",
    "    Musa initial epoch9 model for poster\n",
    "    \"\"\"\n",
    "    def __init__(self):\n",
    "        super().__init__()\n",
    "        self.fc1 = nn.Linear(3,1)\n",
    "    \n",
    "    def forward(self, x):\n",
    "        x = self.fc1(x)\n",
    "        return x  \n",
    "device = 'cuda'\n",
    "model = MODEL().to(device=device)\n",
    "criterion = nn.BCEWithLogitsLoss()\n",
    "optimizer = torch.optim.Adam(model.parameters())\n",
    "params = sum([p.flatten().size()[0] for p in list(model.parameters())])\n",
    "print(\"Params: \",params)\n",
    "from tqdm import tqdm\n",
    "lossi = []\n",
    "model.train()\n",
    "\n",
    "for i in range(1):\n",
    "    for (X_tr,y_tr) in tqdm(trainloader):\n",
    "        X_tr,y_tr = X_tr.to(device),y_tr.to(device)\n",
    "        logits = model(X_tr)\n",
    "        loss = criterion(logits,y_tr)\n",
    "        optimizer.zero_grad()\n",
    "        loss.backward()\n",
    "        optimizer.step()\n",
    "        lossi.append(loss.item())\n",
    "plt.plot(lossi)\n",
    "print(torch.tensor(lossi).mean())"
   ]
  },
  {
   "cell_type": "code",
   "execution_count": null,
   "metadata": {},
   "outputs": [],
   "source": [
    "from tqdm import tqdm\n",
    "lossi = []\n",
    "model.train()\n",
    "\n",
    "for i in range(1):\n",
    "    for (X_tr,y_tr) in tqdm(trainloader):\n",
    "        X_tr,y_tr = X_tr.to(device),y_tr.to(device)\n",
    "        logits = model(X_tr)\n",
    "        loss = criterion(logits,y_tr)\n",
    "        optimizer.zero_grad()\n",
    "        loss.backward()\n",
    "        optimizer.step()\n",
    "        lossi.append(loss.item())\n",
    "plt.plot(lossi)\n",
    "print(torch.tensor(lossi).mean())"
   ]
  },
  {
   "cell_type": "code",
   "execution_count": null,
   "metadata": {},
   "outputs": [],
   "source": [
    "plt.plot(model(X.cuda()).detach().cpu())\n",
    "plt.plot(X)"
   ]
  },
  {
   "cell_type": "code",
   "execution_count": 325,
   "metadata": {},
   "outputs": [
    {
     "name": "stderr",
     "output_type": "stream",
     "text": [
      "100%|██████████| 4469/4469 [00:01<00:00, 2870.89it/s]\n"
     ]
    },
    {
     "data": {
      "text/plain": [
       "(0.10298160512607173,\n",
       " tensor([[0.],\n",
       "         [0.],\n",
       "         [0.],\n",
       "         ...,\n",
       "         [0.],\n",
       "         [0.],\n",
       "         [0.]]),\n",
       " tensor([[2.1683e-02],\n",
       "         [1.6680e-04],\n",
       "         [1.0439e-02],\n",
       "         ...,\n",
       "         [2.6555e-01],\n",
       "         [5.4792e-03],\n",
       "         [1.9545e-02]]))"
      ]
     },
     "execution_count": 325,
     "metadata": {},
     "output_type": "execute_result"
    },
    {
     "data": {
      "image/png": "[encoded data removed]",
      "text/plain": [
       "<Figure size 1000x500 with 3 Axes>"
      ]
     },
     "metadata": {},
     "output_type": "display_data"
    }
   ],
   "source": [
    "from lib.utils import test_evaluation\n",
    "test_evaluation(trainloader,model,criterion)"
   ]
  }
 ],
 "metadata": {
  "kernelspec": {
   "display_name": "Python 3.10.6 64-bit",
   "language": "python",
   "name": "python3"
  },
  "language_info": {
   "codemirror_mode": {
    "name": "ipython",
    "version": 3
   },
   "file_extension": ".py",
   "mimetype": "text/x-python",
   "name": "python",
   "nbconvert_exporter": "python",
   "pygments_lexer": "ipython3",
   "version": "3.10.6"
  },
  "orig_nbformat": 4,
  "vscode": {
   "interpreter": {
    "hash": "916dbcbb3f70747c44a77c7bcd40155683ae19c65e1c03b4aa3499c5328201f1"
   }
  }
 },
 "nbformat": 4,
 "nbformat_minor": 2
}
