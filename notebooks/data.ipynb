{
 "cells": [
  {
   "cell_type": "code",
   "execution_count": 1,
   "metadata": {},
   "outputs": [],
   "source": [
    "import pandas as pd\n",
    "import os\n",
    "import plotly.express as px\n",
    "def load_delta(recording,DATA_PATH):\n",
    "    df = pd.read_csv(f'{DATA_PATH}/{recording}/raw/{recording}.0.csv',skiprows=1)\n",
    "    df = df.reset_index()\n",
    "    df['index'] = df['index']/20/60\n",
    "    print(f'Loading: {recording}')\n",
    "    print(f'Length: {len(df)/1200:.2f} minutes')\n",
    "    return df"
   ]
  },
  {
   "cell_type": "code",
   "execution_count": 15,
   "metadata": {},
   "outputs": [
    {
     "name": "stdout",
     "output_type": "stream",
     "text": [
      "Loading: 2022-11-23_14_58_43\n",
      "Length: 252.70 minutes\n"
     ]
    }
   ],
   "source": [
    "DATA_PATH = f'/home/andrew/smoking/data/winnie'\n",
    "recordings = os.listdir(f'{DATA_PATH}')\n",
    "df = load_delta(recordings[8],DATA_PATH=DATA_PATH)\n",
    "fig = px.line(df.iloc[::2],x='index',y=['acc_x','acc_y','acc_z'])\n",
    "fig.show(renderer='browser')"
   ]
  },
  {
   "cell_type": "code",
   "execution_count": 48,
   "metadata": {},
   "outputs": [
    {
     "name": "stdout",
     "output_type": "stream",
     "text": [
      "Loading: 2023-02-11_13_51_34\n",
      "Length: 293.71 minutes\n"
     ]
    }
   ],
   "source": [
    "DATA_PATH = f'/home/andrew/smoking/data/thrasher'\n",
    "recordings = os.listdir(f'{DATA_PATH}')\n",
    "df = load_delta(recordings[5],DATA_PATH=DATA_PATH)\n",
    "fig = px.line(df.iloc[::2],x='index',y=['acc_x','acc_y','acc_z'])\n",
    "fig.show(renderer='browser')"
   ]
  },
  {
   "cell_type": "code",
   "execution_count": 132,
   "metadata": {},
   "outputs": [],
   "source": [
    "# file 0\n",
    "person = f'data/riley'\n",
    "files = os.listdir(f'../{person}/')\n",
    "idx = 2\n",
    "surrogate = pd.read_csv(f'../{person}/{files[idx]}/raw/{files[idx]}.0.csv',skiprows=1)\n",
    "person = f'data/files'\n",
    "files = os.listdir(f'../{person}/')\n",
    "idx = 0\n",
    "sesh1 = pd.read_csv(f'../{person}/{files[idx]}/raw/{files[idx]}.0.csv',skiprows=1)\n",
    "person = f'data/files'\n",
    "files = os.listdir(f'../{person}/')\n",
    "idx = 1\n",
    "sesh2 = pd.read_csv(f'../{person}/{files[idx]}/raw/{files[idx]}.0.csv',skiprows=1)\n",
    "tmp = pd.concat([surrogate.iloc[:30000],sesh1,surrogate.iloc[30000:70000],sesh2,surrogate.iloc[70000:]]).reset_index(drop=True)\n",
    "tmp.to_csv('data.csv',index=False)"
   ]
  },
  {
   "cell_type": "code",
   "execution_count": 145,
   "metadata": {},
   "outputs": [],
   "source": [
    "# file 1\n",
    "person = f'data/riley'\n",
    "files = os.listdir(f'../{person}/')\n",
    "idx = 3\n",
    "surrogate = pd.read_csv(f'../{person}/{files[idx]}/raw/{files[idx]}.0.csv',skiprows=1)\n",
    "person = f'data/files'\n",
    "files = os.listdir(f'../{person}/')\n",
    "idx = 2\n",
    "sesh1 = pd.read_csv(f'../{person}/{files[idx]}/raw/{files[idx]}.0.csv',skiprows=1)\n",
    "person = f'data/files'\n",
    "files = os.listdir(f'../{person}/')\n",
    "idx = 1\n",
    "sesh2 = pd.read_csv(f'../{person}/{files[idx]}/raw/{files[idx]}.0.csv',skiprows=1)\n",
    "tmp = pd.concat([surrogate.iloc[:10000],sesh1,surrogate.iloc[10000:56000],sesh2,surrogate.iloc[56000:]]).reset_index(drop=True)\n",
    "tmp.to_csv('data2.csv',index=False)"
   ]
  }
 ],
 "metadata": {
  "kernelspec": {
   "display_name": "Python 3.10.12 64-bit",
   "language": "python",
   "name": "python3"
  },
  "language_info": {
   "codemirror_mode": {
    "name": "ipython",
    "version": 3
   },
   "file_extension": ".py",
   "mimetype": "text/x-python",
   "name": "python",
   "nbconvert_exporter": "python",
   "pygments_lexer": "ipython3",
   "version": "3.10.12"
  },
  "orig_nbformat": 4,
  "vscode": {
   "interpreter": {
    "hash": "916dbcbb3f70747c44a77c7bcd40155683ae19c65e1c03b4aa3499c5328201f1"
   }
  }
 },
 "nbformat": 4,
 "nbformat_minor": 2
}
