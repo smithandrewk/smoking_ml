{
 "cells": [
  {
   "cell_type": "code",
   "execution_count": 1,
   "metadata": {},
   "outputs": [
    {
     "name": "stdout",
     "output_type": "stream",
     "text": [
      "0 days 00:19:48.323782559\n",
      "17.333333333333332\n"
     ]
    }
   ],
   "source": [
    "import pandas as pd\n",
    "df = pd.read_csv(f'data/andrew-data/7/raw_data.csv',header=None)\n",
    "df[0] = df[0] - df[0][0]\n",
    "df[0] = df[0].astype('datetime64[ns]')\n",
    "print(df[0][len(df)-1]-df[0][0])\n",
    "print(len(df)/6000)"
   ]
  },
  {
   "cell_type": "code",
   "execution_count": null,
   "metadata": {},
   "outputs": [],
   "source": [
    "X,y = load_file(9)\n",
    "testloader = DataLoader(TensorDataset(X,y),batch_size=64,shuffle=True)\n",
    "# loss baselines\n",
    "print('all zeros:',criterion(one_hot(torch.zeros(len(y)).long(),2).float().cuda(),y.cuda()).item())\n",
    "print('all ones:',criterion(one_hot(torch.ones(len(y)).long(),2).float().cuda(),y.cuda()).item())"
   ]
  },
  {
   "cell_type": "code",
   "execution_count": null,
   "metadata": {},
   "outputs": [],
   "source": [
    "y_pred = torch.softmax(model(X.cuda()),dim=1).argmax(axis=1)\n",
    "cms(y_true=y.argmax(axis=1),y_pred=y_pred.detach().cpu(),current_date=None)\n",
    "print('loss:',criterion(model(X.cuda()),y.cuda()))"
   ]
  },
  {
   "cell_type": "code",
   "execution_count": null,
   "metadata": {},
   "outputs": [],
   "source": [
    "from torch import nn\n",
    "\n",
    "class MLP(nn.Module):\n",
    "    def __init__(self) -> None:\n",
    "        super().__init__()\n",
    "        self.d1 = nn.Linear(300,10)\n",
    "        self.d2 = nn.Linear(10,1)\n",
    "    def forward(self,x):\n",
    "        x = self.d1(x)\n",
    "        x = nn.functional.relu(x)\n",
    "        x = self.d2(x)\n",
    "        return x\n",
    "import torch\n",
    "model = MLP().cuda()\n",
    "model.load_state_dict(torch.load('data/smoking_data/retrained_model.pt'))"
   ]
  }
 ],
 "metadata": {
  "kernelspec": {
   "display_name": "Python 3.10.6 64-bit",
   "language": "python",
   "name": "python3"
  },
  "language_info": {
   "codemirror_mode": {
    "name": "ipython",
    "version": 3
   },
   "file_extension": ".py",
   "mimetype": "text/x-python",
   "name": "python",
   "nbconvert_exporter": "python",
   "pygments_lexer": "ipython3",
   "version": "3.10.6"
  },
  "orig_nbformat": 4,
  "vscode": {
   "interpreter": {
    "hash": "916dbcbb3f70747c44a77c7bcd40155683ae19c65e1c03b4aa3499c5328201f1"
   }
  }
 },
 "nbformat": 4,
 "nbformat_minor": 2
}
