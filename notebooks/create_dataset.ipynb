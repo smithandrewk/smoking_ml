{
 "cells": [
  {
   "cell_type": "code",
   "execution_count": 14,
   "metadata": {},
   "outputs": [],
   "source": [
    "from lib.imports import *\n",
    "import os"
   ]
  },
  {
   "cell_type": "code",
   "execution_count": 15,
   "metadata": {},
   "outputs": [
    {
     "name": "stdout",
     "output_type": "stream",
     "text": [
      "[43, 35] [35]\n"
     ]
    }
   ],
   "source": [
    "normalize = True\n",
    "balance = False\n",
    "centered = True\n",
    "\n",
    "window_size = 501\n",
    "stride = 1 # in datapoints\n",
    "block_size = 1\n",
    "\n",
    "train_size = .5\n",
    "dev_size = .25\n",
    "test_size = .25\n",
    "n_files = 2\n",
    "n_holdout_files = 1\n",
    "\n",
    "files = list(range(71))\n",
    "skip_idx = [19,24,26,32,34,38,40,45,52,55,70]\n",
    "for idx in skip_idx:\n",
    "    files.remove(idx)\n",
    "fileindices = random.sample(files,n_files)\n",
    "holdout_indices = fileindices[(n_files-n_holdout_files):]\n",
    "print(fileindices,holdout_indices)"
   ]
  },
  {
   "cell_type": "code",
   "execution_count": 16,
   "metadata": {},
   "outputs": [],
   "source": [
    "from lib.utils import load_nursing_by_index"
   ]
  },
  {
   "cell_type": "code",
   "execution_count": 17,
   "metadata": {},
   "outputs": [
    {
     "data": {
      "text/plain": [
       "tensor([138679,   4321])"
      ]
     },
     "execution_count": 17,
     "metadata": {},
     "output_type": "execute_result"
    }
   ],
   "source": [
    "X,y = load_nursing_by_index(0)\n",
    "torch.bincount(y.long())\n",
    "# import plotly.express as px\n",
    "# df = pd.DataFrame([X[:,0].numpy(),y.argmax(axis=1).numpy()]).T\n",
    "# fig = px.line(df)\n",
    "# fig.show(renderer='browser')"
   ]
  },
  {
   "cell_type": "code",
   "execution_count": 18,
   "metadata": {},
   "outputs": [],
   "source": [
    "y_train_all = torch.Tensor()\n",
    "y_dev_all = torch.Tensor()\n",
    "y_test_all = torch.Tensor()\n",
    "x_train_i = 0\n",
    "x_dev_i = 0\n",
    "x_test_i = 0\n",
    "data_dir = f'w{window_size}_centered_tiny'\n",
    "os.makedirs(data_dir)\n",
    "os.makedirs(f'{data_dir}/train')\n",
    "os.makedirs(f'{data_dir}/dev')\n",
    "os.makedirs(f'{data_dir}/test')\n",
    "config = {\n",
    "    'TRAIN_SIZE':train_size,\n",
    "    'DEV_SIZE':dev_size,\n",
    "    'TEST_SIZE':test_size,\n",
    "    'FILES':fileindices,\n",
    "    'NORMALIZED':normalize,\n",
    "    'BALANCED':balance,\n",
    "    'HOLDOUT_FILES':holdout_indices\n",
    "}\n",
    "with open(f'{data_dir}/config.json', 'w') as f:\n",
    "     f.write(json.dumps(config))"
   ]
  },
  {
   "cell_type": "code",
   "execution_count": 19,
   "metadata": {},
   "outputs": [],
   "source": [
    "for fileindex in fileindices:\n",
    "    X,y_true = load_nursing_by_index(fileindex)\n",
    "\n",
    "    if (fileindex in holdout_indices):\n",
    "        torch.save((X,y_true),f'{data_dir}/holdout_{fileindex}.pt')\n",
    "        continue\n",
    "    \n",
    "    x = X[:,0].unsqueeze(1)\n",
    "    y = X[:,1].unsqueeze(1)\n",
    "    z = X[:,2].unsqueeze(1)\n",
    "    xs = [x[:-(window_size-1)]]\n",
    "    ys = [y[:-(window_size-1)]]\n",
    "    zs = [z[:-(window_size-1)]]\n",
    "    for i in range(1,window_size-1):\n",
    "        xs.append(x[i:i-(window_size-1)])\n",
    "        ys.append(y[i:i-(window_size-1)])\n",
    "        zs.append(z[i:i-(window_size-1)])\n",
    "    xs.append(x[(window_size-1):])\n",
    "    ys.append(y[(window_size-1):])\n",
    "    zs.append(z[(window_size-1):])\n",
    "    xs = torch.cat(xs,axis=1).float()\n",
    "    ys = torch.cat(ys,axis=1).float()\n",
    "    zs = torch.cat(zs,axis=1).float()\n",
    "    X = torch.cat([xs,ys,zs],axis=1)\n",
    "    y_true = y_true[window_size//2:-(window_size//2)].unsqueeze(1)\n",
    "\n",
    "    # train test split\n",
    "    X_train,X_test,y_train,y_test = train_test_split(X,y_true,test_size=(1-train_size),shuffle=True,stratify=y_true,random_state=0)\n",
    "    X_dev,X_test,y_dev,y_test = train_test_split(X_test,y_test,test_size=(test_size/(1-train_size)),shuffle=True,stratify=y_test,random_state=0)\n",
    "\n",
    "    y_train_all = torch.cat([y_train_all,y_train])\n",
    "    y_dev_all = torch.cat([y_dev_all,y_dev])\n",
    "    y_test_all = torch.cat([y_test_all,y_test])\n",
    "\n",
    "    for Xi in X_train:\n",
    "        torch.save(Xi.clone(),f'{data_dir}/train/{x_train_i}.pt')\n",
    "        x_train_i += 1\n",
    "    for Xi in X_dev:\n",
    "        torch.save(Xi.clone(),f'{data_dir}/dev/{x_dev_i}.pt')\n",
    "        x_dev_i += 1\n",
    "    for Xi in X_test:\n",
    "        torch.save(Xi.clone(),f'{data_dir}/test/{x_test_i}.pt')\n",
    "        x_test_i += 1\n",
    "torch.save(y_train_all,f'{data_dir}/y_train.pt')\n",
    "torch.save(y_dev_all,f'{data_dir}/y_dev.pt')\n",
    "torch.save(y_test_all,f'{data_dir}/y_test.pt')"
   ]
  },
  {
   "cell_type": "code",
   "execution_count": 20,
   "metadata": {},
   "outputs": [
    {
     "name": "stdout",
     "output_type": "stream",
     "text": [
      "torch.Size([1, 1503]) torch.Size([1, 1])\n",
      "144000\n"
     ]
    }
   ],
   "source": [
    "# test if worked\n",
    "from lib.datasets import Dataset2p0\n",
    "from torch.utils.data import DataLoader\n",
    "trainloader = DataLoader(Dataset2p0(dir=f'{data_dir}/train/',labels=f'{data_dir}/y_train.pt'),batch_size=1,shuffle=True)\n",
    "devloader = DataLoader(Dataset2p0(dir=f'{data_dir}/dev/',labels=f'{data_dir}/y_test.pt'),batch_size=1,shuffle=True)\n",
    "testloader = DataLoader(Dataset2p0(dir=f'{data_dir}/test/',labels=f'{data_dir}/y_test.pt'),batch_size=1,shuffle=True)\n",
    "X,y = next(iter(trainloader))\n",
    "X,y = next(iter(devloader))\n",
    "X,y = next(iter(testloader))\n",
    "print(X.shape,y.shape)\n",
    "print(len(trainloader)+len(devloader)+len(testloader))"
   ]
  },
  {
   "cell_type": "code",
   "execution_count": 21,
   "metadata": {},
   "outputs": [
    {
     "data": {
      "text/plain": [
       "tensor([[0.]], dtype=torch.float64)"
      ]
     },
     "execution_count": 21,
     "metadata": {},
     "output_type": "execute_result"
    }
   ],
   "source": [
    "y"
   ]
  }
 ],
 "metadata": {
  "kernelspec": {
   "display_name": "Python 3.10.6 64-bit",
   "language": "python",
   "name": "python3"
  },
  "language_info": {
   "codemirror_mode": {
    "name": "ipython",
    "version": 3
   },
   "file_extension": ".py",
   "mimetype": "text/x-python",
   "name": "python",
   "nbconvert_exporter": "python",
   "pygments_lexer": "ipython3",
   "version": "3.10.6"
  },
  "orig_nbformat": 4,
  "vscode": {
   "interpreter": {
    "hash": "916dbcbb3f70747c44a77c7bcd40155683ae19c65e1c03b4aa3499c5328201f1"
   }
  }
 },
 "nbformat": 4,
 "nbformat_minor": 2
}
