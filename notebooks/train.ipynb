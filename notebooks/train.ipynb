{
 "cells": [
  {
   "cell_type": "code",
   "execution_count": null,
   "metadata": {},
   "outputs": [],
   "source": [
    "from lib.nursing import *\n",
    "from lib.utils import *\n",
    "\n",
    "X,y = load_feature_label_pair(index=0)\n",
    "X = window_epoched_signal(X,windowsize=101)\n",
    "trainloader = DataLoader(TensorDataset(X,y),batch_size=32,shuffle=True)\n",
    "X,y = load_feature_label_pair(index=1)\n",
    "X = window_epoched_signal(X,windowsize=101)\n",
    "devloader = DataLoader(TensorDataset(X,y),batch_size=32,shuffle=False)"
   ]
  },
  {
   "cell_type": "code",
   "execution_count": null,
   "metadata": {},
   "outputs": [],
   "source": [
    "from torch import nn\n",
    "\n",
    "class MODEL(nn.Module):\n",
    "    def __init__(self, *args, **kwargs) -> None:\n",
    "        super().__init__(*args, **kwargs)\n",
    "        self.c1 = nn.Conv1d(in_channels=3,out_channels=1,kernel_size=5,stride=1,padding='same',bias=False)\n",
    "        self.lstm = nn.LSTM(input_size=1,hidden_size=64,batch_first=True,bidirectional=True)\n",
    "        self.classifier = nn.Sequential(\n",
    "            nn.Linear(128,32),\n",
    "            nn.ReLU(),\n",
    "            nn.Linear(32,1)\n",
    "        )\n",
    "    def forward(self,x):\n",
    "        x = self.c1(x)\n",
    "        x = x.transpose(1,2)\n",
    "        o,_ = self.lstm(x)\n",
    "        o = o[:,-1,:]\n",
    "        x = self.classifier(o)\n",
    "        return x\n",
    "model = MODEL()\n",
    "criterion = nn.BCEWithLogitsLoss()\n",
    "optimizer = torch.optim.Adam(model.parameters())"
   ]
  },
  {
   "cell_type": "code",
   "execution_count": null,
   "metadata": {},
   "outputs": [],
   "source": [
    "lossi = []\n",
    "f1i = []\n",
    "\n",
    "for i in range(5):\n",
    "    loss,metric,y_true,y_pred,y_logits = evaluate(devloader,model,criterion)\n",
    "    f1i.append(metric['f1'])\n",
    "    for Xi,yi in trainloader:\n",
    "        logits = model(Xi)\n",
    "        loss = criterion(logits,yi)\n",
    "        optimizer.zero_grad()\n",
    "        loss.backward()\n",
    "        optimizer.step()\n",
    "        lossi.append(loss.item())\n",
    "loss,metric,y_true,y_pred,y_logits = evaluate(devloader,model,criterion)\n",
    "f1i.append(metric['f1'])"
   ]
  },
  {
   "cell_type": "code",
   "execution_count": null,
   "metadata": {},
   "outputs": [],
   "source": [
    "plt.plot(torch.tensor(lossi[:len(lossi) - len(lossi)%10]).view(-1,10).mean(axis=1))"
   ]
  },
  {
   "cell_type": "code",
   "execution_count": null,
   "metadata": {},
   "outputs": [],
   "source": [
    "plt.plot(f1i)"
   ]
  },
  {
   "cell_type": "code",
   "execution_count": null,
   "metadata": {},
   "outputs": [],
   "source": [
    "plt.plot(Xi[0].T)\n",
    "plt.plot(model.c1(Xi).squeeze(1)[0].detach())\n",
    "plt.plot"
   ]
  },
  {
   "cell_type": "code",
   "execution_count": null,
   "metadata": {},
   "outputs": [],
   "source": [
    "loss,metric,y_true,y_pred,y_logits = evaluate(devloader,model,criterion)\n",
    "fig,axes = plt.subplots(nrows=2,ncols=1,figsize=(30,5),gridspec_kw={'height_ratios': [1,5]})\n",
    "axes[0].plot(y_true,'g',linewidth=.5)\n",
    "axes[0].plot(y_pred,'r',linewidth=.5)\n",
    "axes[0].axis('off')\n",
    "plt.stackplot(torch.arange(len(y_logits)),torch.hstack([torch.ones_like(y_logits) - y_logits,y_logits]).T)\n",
    "plt.savefig(f'logits.pdf',bbox_inches='tight')\n",
    "cm_grid(y_true,y_pred,save_path=f'cm.jpg')"
   ]
  },
  {
   "cell_type": "code",
   "execution_count": 28,
   "metadata": {},
   "outputs": [],
   "source": [
    "torch.save(model,'model.pt')"
   ]
  }
 ],
 "metadata": {
  "kernelspec": {
   "display_name": "Python 3.10.12 64-bit",
   "language": "python",
   "name": "python3"
  },
  "language_info": {
   "codemirror_mode": {
    "name": "ipython",
    "version": 3
   },
   "file_extension": ".py",
   "mimetype": "text/x-python",
   "name": "python",
   "nbconvert_exporter": "python",
   "pygments_lexer": "ipython3",
   "version": "3.10.12"
  },
  "orig_nbformat": 4,
  "vscode": {
   "interpreter": {
    "hash": "916dbcbb3f70747c44a77c7bcd40155683ae19c65e1c03b4aa3499c5328201f1"
   }
  }
 },
 "nbformat": 4,
 "nbformat_minor": 2
}
