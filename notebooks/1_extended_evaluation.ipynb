{
 "cells": [
  {
   "cell_type": "code",
   "execution_count": 2,
   "metadata": {},
   "outputs": [
    {
     "data": {
      "text/plain": [
       "<All keys matched successfully>"
      ]
     },
     "execution_count": 2,
     "metadata": {},
     "output_type": "execute_result"
    }
   ],
   "source": [
    "from torch import nn\n",
    "\n",
    "class MLP(nn.Module):\n",
    "    def __init__(self) -> None:\n",
    "        super().__init__()\n",
    "        self.d1 = nn.Linear(300,10)\n",
    "        self.d2 = nn.Linear(10,1)\n",
    "    def forward(self,x):\n",
    "        x = self.d1(x)\n",
    "        x = nn.functional.relu(x)\n",
    "        x = self.d2(x)\n",
    "        return x\n",
    "import torch\n",
    "model = MLP().cuda()\n",
    "model.load_state_dict(torch.load('data/smoking_data/retrained_model.pt'))"
   ]
  },
  {
   "cell_type": "code",
   "execution_count": 4,
   "metadata": {},
   "outputs": [],
   "source": [
    "import pandas as pd\n",
    "import matplotlib.pyplot as plt\n",
    "\n",
    "df = pd.read_csv(f'data/andrew-data/20/raw_data.csv',header=None)\n",
    "df = df[[2,3,4]]\n",
    "df_np = df.to_numpy()"
   ]
  },
  {
   "cell_type": "code",
   "execution_count": 6,
   "metadata": {},
   "outputs": [],
   "source": [
    "import json\n",
    "with open(f'data/andrew-data/20/20_data.json','r') as f:\n",
    "    data = json.load(f)"
   ]
  },
  {
   "cell_type": "code",
   "execution_count": 7,
   "metadata": {},
   "outputs": [],
   "source": [
    "df_dm = df_np[::5]"
   ]
  },
  {
   "cell_type": "code",
   "execution_count": 8,
   "metadata": {},
   "outputs": [
    {
     "data": {
      "text/plain": [
       "[{'start': 138270, 'end': 138693},\n",
       " {'start': 138786, 'end': 139398},\n",
       " {'start': 140633, 'end': 141123},\n",
       " {'start': 141314, 'end': 141797},\n",
       " {'start': 142311, 'end': 142935},\n",
       " {'start': 143801, 'end': 144256},\n",
       " {'start': 144684, 'end': 145283},\n",
       " {'start': 146037, 'end': 146501},\n",
       " {'start': 146933, 'end': 147474},\n",
       " {'start': 147935, 'end': 148499},\n",
       " {'start': 149459, 'end': 149882}]"
      ]
     },
     "execution_count": 8,
     "metadata": {},
     "output_type": "execute_result"
    }
   ],
   "source": [
    "puffs = data['puffs']\n",
    "puffs"
   ]
  },
  {
   "cell_type": "code",
   "execution_count": 9,
   "metadata": {},
   "outputs": [],
   "source": [
    "import numpy as np\n",
    "puffs = data['puffs']\n",
    "windows = []\n",
    "labels = []\n",
    "for i in range(len(df_np)-100):\n",
    "    window =  df_np[i:i+100].T.flatten()\n",
    "    windows.append(window)\n",
    "    for puff in puffs:\n",
    "        label = 0\n",
    "        if(i >= puff['start'] and i < puff['end']):\n",
    "            label = 1\n",
    "            break\n",
    "    labels.append(label)\n",
    "windows = np.array(windows)\n",
    "labels = np.array(labels)\n",
    "X = torch.from_numpy(windows).float().cuda()\n",
    "y = torch.from_numpy(labels).reshape(-1,1).float().cuda()"
   ]
  },
  {
   "cell_type": "code",
   "execution_count": 10,
   "metadata": {},
   "outputs": [
    {
     "data": {
      "image/png": "[encoded data removed]",
      "text/plain": [
       "<Figure size 640x480 with 2 Axes>"
      ]
     },
     "metadata": {},
     "output_type": "display_data"
    }
   ],
   "source": [
    "\n",
    "logits = model(X)\n",
    "y_pred = nn.Sigmoid()(logits).round()\n",
    "y_pred = y_pred.detach()\n",
    "from sklearn.metrics import confusion_matrix\n",
    "from sklearn.metrics import ConfusionMatrixDisplay\n",
    "from sklearn.metrics import f1_score\n",
    "y_test_cpu = y.cpu()\n",
    "y_pred_cpu = y_pred.cpu()\n",
    "\n",
    "cm = ConfusionMatrixDisplay(confusion_matrix(y_test_cpu,y_pred_cpu,normalize='true'))\n",
    "cm.plot()\n",
    "import plotly.express as px\n",
    "fig = px.line(pd.DataFrame([y_pred_cpu.numpy().squeeze()*10,df_np[:,0]]).T.iloc[::20])\n",
    "fig.show(renderer='browser')"
   ]
  }
 ],
 "metadata": {
  "kernelspec": {
   "display_name": "Python 3.10.6 64-bit",
   "language": "python",
   "name": "python3"
  },
  "language_info": {
   "codemirror_mode": {
    "name": "ipython",
    "version": 3
   },
   "file_extension": ".py",
   "mimetype": "text/x-python",
   "name": "python",
   "nbconvert_exporter": "python",
   "pygments_lexer": "ipython3",
   "version": "3.10.6"
  },
  "orig_nbformat": 4,
  "vscode": {
   "interpreter": {
    "hash": "916dbcbb3f70747c44a77c7bcd40155683ae19c65e1c03b4aa3499c5328201f1"
   }
  }
 },
 "nbformat": 4,
 "nbformat_minor": 2
}
