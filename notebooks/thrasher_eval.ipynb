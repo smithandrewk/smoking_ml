{
 "cells": [
  {
   "cell_type": "code",
   "execution_count": 1,
   "metadata": {},
   "outputs": [
    {
     "name": "stderr",
     "output_type": "stream",
     "text": [
      "/home/andrew/.local/lib/python3.10/site-packages/tqdm/auto.py:22: TqdmWarning: IProgress not found. Please update jupyter and ipywidgets. See https://ipywidgets.readthedocs.io/en/stable/user_install.html\n",
      "  from .autonotebook import tqdm as notebook_tqdm\n"
     ]
    }
   ],
   "source": [
    "import plotly.express as px\n",
    "import pandas as pd\n",
    "from lib.utils import load_thrasher_by_index,run_old_state_machine_on_thresholded_predictions,forward,run_new_state_machine_on_thresholded_predictions\n",
    "from lib.models import MLP\n",
    "import torch\n",
    "from torch import nn\n",
    "import numpy as np"
   ]
  },
  {
   "cell_type": "code",
   "execution_count": 2,
   "metadata": {},
   "outputs": [
    {
     "name": "stdout",
     "output_type": "stream",
     "text": [
      "Length from shape: 3328.45\n",
      "Length from timestamp: 3185.2010432730003\n",
      "Length from epoch time : 3185.161999940872\n"
     ]
    },
    {
     "data": {
      "text/html": [
       "<div>\n",
       "<style scoped>\n",
       "    .dataframe tbody tr th:only-of-type {\n",
       "        vertical-align: middle;\n",
       "    }\n",
       "\n",
       "    .dataframe tbody tr th {\n",
       "        vertical-align: top;\n",
       "    }\n",
       "\n",
       "    .dataframe thead th {\n",
       "        text-align: right;\n",
       "    }\n",
       "</style>\n",
       "<table border=\"1\" class=\"dataframe\">\n",
       "  <thead>\n",
       "    <tr style=\"text-align: right;\">\n",
       "      <th></th>\n",
       "      <th>index</th>\n",
       "      <th>timestamp</th>\n",
       "      <th>acc_x</th>\n",
       "      <th>acc_y</th>\n",
       "      <th>acc_z</th>\n",
       "      <th>real time</th>\n",
       "      <th>activity</th>\n",
       "      <th>label</th>\n",
       "      <th>rawlabel</th>\n",
       "      <th>state</th>\n",
       "      <th>log</th>\n",
       "    </tr>\n",
       "  </thead>\n",
       "  <tbody>\n",
       "    <tr>\n",
       "      <th>0</th>\n",
       "      <td>0.00</td>\n",
       "      <td>10885.336023</td>\n",
       "      <td>-0.725691</td>\n",
       "      <td>2.179468</td>\n",
       "      <td>9.678274</td>\n",
       "      <td>1.670366e+12</td>\n",
       "      <td>None</td>\n",
       "      <td>0.0</td>\n",
       "      <td>3.839151e-03</td>\n",
       "      <td>0</td>\n",
       "      <td>0.0</td>\n",
       "    </tr>\n",
       "    <tr>\n",
       "      <th>1</th>\n",
       "      <td>0.05</td>\n",
       "      <td>10885.383712</td>\n",
       "      <td>-0.881367</td>\n",
       "      <td>2.232158</td>\n",
       "      <td>9.692644</td>\n",
       "      <td>1.670366e+12</td>\n",
       "      <td>None</td>\n",
       "      <td>0.0</td>\n",
       "      <td>6.276207e-03</td>\n",
       "      <td>0</td>\n",
       "      <td>0.0</td>\n",
       "    </tr>\n",
       "    <tr>\n",
       "      <th>2</th>\n",
       "      <td>0.10</td>\n",
       "      <td>10885.431408</td>\n",
       "      <td>-1.262175</td>\n",
       "      <td>2.105222</td>\n",
       "      <td>9.393267</td>\n",
       "      <td>1.670366e+12</td>\n",
       "      <td>None</td>\n",
       "      <td>0.0</td>\n",
       "      <td>1.307537e-02</td>\n",
       "      <td>0</td>\n",
       "      <td>0.0</td>\n",
       "    </tr>\n",
       "    <tr>\n",
       "      <th>3</th>\n",
       "      <td>0.15</td>\n",
       "      <td>10885.479100</td>\n",
       "      <td>-1.005908</td>\n",
       "      <td>2.162703</td>\n",
       "      <td>9.649534</td>\n",
       "      <td>1.670366e+12</td>\n",
       "      <td>None</td>\n",
       "      <td>0.0</td>\n",
       "      <td>1.966746e-02</td>\n",
       "      <td>0</td>\n",
       "      <td>0.0</td>\n",
       "    </tr>\n",
       "    <tr>\n",
       "      <th>4</th>\n",
       "      <td>0.20</td>\n",
       "      <td>10885.526797</td>\n",
       "      <td>-0.929268</td>\n",
       "      <td>2.062112</td>\n",
       "      <td>9.604029</td>\n",
       "      <td>1.670366e+12</td>\n",
       "      <td>None</td>\n",
       "      <td>0.0</td>\n",
       "      <td>2.723153e-02</td>\n",
       "      <td>0</td>\n",
       "      <td>0.0</td>\n",
       "    </tr>\n",
       "    <tr>\n",
       "      <th>...</th>\n",
       "      <td>...</td>\n",
       "      <td>...</td>\n",
       "      <td>...</td>\n",
       "      <td>...</td>\n",
       "      <td>...</td>\n",
       "      <td>...</td>\n",
       "      <td>...</td>\n",
       "      <td>...</td>\n",
       "      <td>...</td>\n",
       "      <td>...</td>\n",
       "      <td>...</td>\n",
       "    </tr>\n",
       "    <tr>\n",
       "      <th>66564</th>\n",
       "      <td>3328.20</td>\n",
       "      <td>14070.345891</td>\n",
       "      <td>10.154883</td>\n",
       "      <td>-6.255791</td>\n",
       "      <td>-2.742297</td>\n",
       "      <td>1.670369e+12</td>\n",
       "      <td>None</td>\n",
       "      <td>0.0</td>\n",
       "      <td>1.244848e-10</td>\n",
       "      <td>0</td>\n",
       "      <td>0.0</td>\n",
       "    </tr>\n",
       "    <tr>\n",
       "      <th>66565</th>\n",
       "      <td>3328.25</td>\n",
       "      <td>14070.393679</td>\n",
       "      <td>10.964400</td>\n",
       "      <td>-5.407954</td>\n",
       "      <td>-1.717229</td>\n",
       "      <td>1.670369e+12</td>\n",
       "      <td>None</td>\n",
       "      <td>0.0</td>\n",
       "      <td>6.194638e-10</td>\n",
       "      <td>0</td>\n",
       "      <td>0.0</td>\n",
       "    </tr>\n",
       "    <tr>\n",
       "      <th>66566</th>\n",
       "      <td>3328.30</td>\n",
       "      <td>14070.441476</td>\n",
       "      <td>12.274476</td>\n",
       "      <td>-6.260581</td>\n",
       "      <td>-1.930386</td>\n",
       "      <td>1.670369e+12</td>\n",
       "      <td>None</td>\n",
       "      <td>0.0</td>\n",
       "      <td>6.243053e-10</td>\n",
       "      <td>0</td>\n",
       "      <td>0.0</td>\n",
       "    </tr>\n",
       "    <tr>\n",
       "      <th>66567</th>\n",
       "      <td>3328.35</td>\n",
       "      <td>14070.489271</td>\n",
       "      <td>11.445799</td>\n",
       "      <td>-7.300020</td>\n",
       "      <td>-2.258503</td>\n",
       "      <td>1.670369e+12</td>\n",
       "      <td>None</td>\n",
       "      <td>0.0</td>\n",
       "      <td>1.724553e-09</td>\n",
       "      <td>0</td>\n",
       "      <td>0.0</td>\n",
       "    </tr>\n",
       "    <tr>\n",
       "      <th>66568</th>\n",
       "      <td>3328.40</td>\n",
       "      <td>14070.537067</td>\n",
       "      <td>8.657996</td>\n",
       "      <td>-3.324287</td>\n",
       "      <td>-2.519561</td>\n",
       "      <td>1.670369e+12</td>\n",
       "      <td>None</td>\n",
       "      <td>0.0</td>\n",
       "      <td>1.800965e-09</td>\n",
       "      <td>0</td>\n",
       "      <td>0.0</td>\n",
       "    </tr>\n",
       "  </tbody>\n",
       "</table>\n",
       "<p>66569 rows × 11 columns</p>\n",
       "</div>"
      ],
      "text/plain": [
       "         index     timestamp      acc_x     acc_y     acc_z     real time  \\\n",
       "0         0.00  10885.336023  -0.725691  2.179468  9.678274  1.670366e+12   \n",
       "1         0.05  10885.383712  -0.881367  2.232158  9.692644  1.670366e+12   \n",
       "2         0.10  10885.431408  -1.262175  2.105222  9.393267  1.670366e+12   \n",
       "3         0.15  10885.479100  -1.005908  2.162703  9.649534  1.670366e+12   \n",
       "4         0.20  10885.526797  -0.929268  2.062112  9.604029  1.670366e+12   \n",
       "...        ...           ...        ...       ...       ...           ...   \n",
       "66564  3328.20  14070.345891  10.154883 -6.255791 -2.742297  1.670369e+12   \n",
       "66565  3328.25  14070.393679  10.964400 -5.407954 -1.717229  1.670369e+12   \n",
       "66566  3328.30  14070.441476  12.274476 -6.260581 -1.930386  1.670369e+12   \n",
       "66567  3328.35  14070.489271  11.445799 -7.300020 -2.258503  1.670369e+12   \n",
       "66568  3328.40  14070.537067   8.657996 -3.324287 -2.519561  1.670369e+12   \n",
       "\n",
       "      activity  label      rawlabel  state  log  \n",
       "0         None    0.0  3.839151e-03      0  0.0  \n",
       "1         None    0.0  6.276207e-03      0  0.0  \n",
       "2         None    0.0  1.307537e-02      0  0.0  \n",
       "3         None    0.0  1.966746e-02      0  0.0  \n",
       "4         None    0.0  2.723153e-02      0  0.0  \n",
       "...        ...    ...           ...    ...  ...  \n",
       "66564     None    0.0  1.244848e-10      0  0.0  \n",
       "66565     None    0.0  6.194638e-10      0  0.0  \n",
       "66566     None    0.0  6.243053e-10      0  0.0  \n",
       "66567     None    0.0  1.724553e-09      0  0.0  \n",
       "66568     None    0.0  1.800965e-09      0  0.0  \n",
       "\n",
       "[66569 rows x 11 columns]"
      ]
     },
     "execution_count": 2,
     "metadata": {},
     "output_type": "execute_result"
    }
   ],
   "source": [
    "df,(times,events),X = load_thrasher_by_index(1,dir='data/thrasher')\n",
    "df"
   ]
  },
  {
   "cell_type": "code",
   "execution_count": 3,
   "metadata": {},
   "outputs": [],
   "source": [
    "# let's visualize the data\n",
    "fig = px.line(df,x='index',y=['acc_x','acc_y','acc_z'],labels={'index':'time (seconds)','value':'acceleration (m/s^2)'})\n",
    "fig.show(renderer='browser')"
   ]
  },
  {
   "cell_type": "code",
   "execution_count": 4,
   "metadata": {},
   "outputs": [],
   "source": [
    "# let's visualize the raw network output\n",
    "fig = px.line(df,x='index',y=['acc_x','acc_y','acc_z','rawlabel'],labels={'index':'time (seconds)','value':'acceleration (m/s^2)'})\n",
    "fig.show(renderer='browser')"
   ]
  },
  {
   "cell_type": "code",
   "execution_count": 5,
   "metadata": {},
   "outputs": [],
   "source": [
    "# rawlabel output too small, let's increase magnitude\n",
    "df['rawlabel'] = df['rawlabel']*10\n",
    "fig = px.line(df,x='index',y=['acc_x','acc_y','acc_z','rawlabel'],labels={'index':'time (seconds)','value':'acceleration (m/s^2)'})\n",
    "fig.show(renderer='browser')"
   ]
  },
  {
   "cell_type": "code",
   "execution_count": 7,
   "metadata": {},
   "outputs": [],
   "source": [
    "# how does this translate into puff detection, and therefore session detection?\n",
    "# first we visualize thresholded rawlabels\n",
    "df['label'] = df['label']*10\n",
    "fig = px.line(df,x='index',y=['acc_x','acc_y','acc_z','rawlabel','label'],labels={'index':'time (seconds)','value':'acceleration (m/s^2)'})\n",
    "fig.show(renderer='browser')"
   ]
  },
  {
   "cell_type": "code",
   "execution_count": 6,
   "metadata": {},
   "outputs": [],
   "source": [
    "# now we can get rid of rawlabels, understanding that the algorithm starts there. let's get rid of y and z also for now.\n",
    "fig = px.line(df,x='index',y=['acc_x','label'],labels={'index':'time (seconds)','value':'acceleration (m/s^2)'})\n",
    "fig.show(renderer='browser')"
   ]
  },
  {
   "cell_type": "code",
   "execution_count": 8,
   "metadata": {},
   "outputs": [],
   "source": [
    "# how do thresholded outputs translate into decisions about puffs?\n",
    "fig = px.line(df,x='index',y=['acc_x','label','state'],labels={'index':'time (seconds)','value':'acceleration (m/s^2)'})\n",
    "fig.show(renderer='browser')"
   ]
  },
  {
   "cell_type": "code",
   "execution_count": 9,
   "metadata": {},
   "outputs": [
    {
     "name": "stdout",
     "output_type": "stream",
     "text": [
      "Length from shape: 3328.45\n",
      "Length from timestamp: 3185.2010432730003\n",
      "Length from epoch time : 3185.161999940872\n"
     ]
    },
    {
     "data": {
      "text/plain": [
       "True"
      ]
     },
     "execution_count": 9,
     "metadata": {},
     "output_type": "execute_result"
    }
   ],
   "source": [
    "# so, where does the state machine decide there are puffs?\n",
    "# get data to reset scaling by 10\n",
    "df,(times,events),X = load_thrasher_by_index(1,dir='data/thrasher')\n",
    "states,puff_locations = run_old_state_machine_on_thresholded_predictions(df['label'].to_numpy())\n",
    "# df['state'] was computed on watch and we reimplemented here for consistency\n",
    "states == df['state'].to_list()"
   ]
  },
  {
   "cell_type": "code",
   "execution_count": 11,
   "metadata": {},
   "outputs": [
    {
     "data": {
      "text/plain": [
       "[91,\n",
       " 531,\n",
       " 5324,\n",
       " 6885,\n",
       " 7264,\n",
       " 7807,\n",
       " 8659,\n",
       " 10669,\n",
       " 10958,\n",
       " 11612,\n",
       " 12188,\n",
       " 12350,\n",
       " 12459,\n",
       " 13212,\n",
       " 13827,\n",
       " 15649,\n",
       " 24951,\n",
       " 25810,\n",
       " 27171,\n",
       " 29763,\n",
       " 30353,\n",
       " 37562]"
      ]
     },
     "execution_count": 11,
     "metadata": {},
     "output_type": "execute_result"
    }
   ],
   "source": [
    "puff_locations"
   ]
  },
  {
   "cell_type": "code",
   "execution_count": 10,
   "metadata": {},
   "outputs": [],
   "source": [
    "# let's plot puff locations\n",
    "# how do thresholded outputs translate into decisions about puffs?\n",
    "fig = px.line(df,y=['acc_x','label','state'],labels={'index':'time (seconds)','value':'acceleration (m/s^2)'})\n",
    "for puff_loc in puff_locations:\n",
    "    fig.add_vline(x=puff_loc)\n",
    "fig.show(renderer='browser')"
   ]
  },
  {
   "cell_type": "code",
   "execution_count": 12,
   "metadata": {},
   "outputs": [
    {
     "name": "stderr",
     "output_type": "stream",
     "text": [
      "100%|██████████| 66470/66470 [00:06<00:00, 10845.63it/s]\n"
     ]
    }
   ],
   "source": [
    "# let's, using the same acceleration signal, re-compute rawlabels\n",
    "labels = forward(X)"
   ]
  },
  {
   "cell_type": "code",
   "execution_count": 13,
   "metadata": {},
   "outputs": [],
   "source": [
    "# let's compare rawlabels\n",
    "df['rawlabel_new'] = labels\n",
    "df['rawlabel'] = df['rawlabel']*10\n",
    "df['rawlabel_new'] = df['rawlabel_new']*10\n",
    "fig = px.line(df,x='index',y=['acc_x','rawlabel','rawlabel_new'],labels={'index':'time (seconds)','value':'acceleration (m/s^2)'})\n",
    "fig.show(renderer='browser')"
   ]
  },
  {
   "cell_type": "code",
   "execution_count": 14,
   "metadata": {},
   "outputs": [
    {
     "name": "stdout",
     "output_type": "stream",
     "text": [
      "14079.588326581692\n",
      "5640.556113118316\n"
     ]
    }
   ],
   "source": [
    "# how much total activation?\n",
    "print(df['rawlabel'].sum())\n",
    "print(df['rawlabel_new'].sum())"
   ]
  },
  {
   "cell_type": "code",
   "execution_count": 15,
   "metadata": {},
   "outputs": [
    {
     "name": "stdout",
     "output_type": "stream",
     "text": [
      "8200.0\n",
      "3660\n"
     ]
    }
   ],
   "source": [
    "# do thresholding\n",
    "label_new = [1 if y > .85 else 0 for y in labels]\n",
    "df['label_new'] = label_new\n",
    "df['label_new'] = df['label_new']*10\n",
    "df['label'] = df['label']*10\n",
    "fig = px.line(df,x='index',y=['acc_x','label','label_new'],labels={'index':'time (seconds)','value':'acceleration (m/s^2)'})\n",
    "fig.show(renderer='browser')\n",
    "# how much total activation?\n",
    "print(df['label'].sum())\n",
    "print(df['label_new'].sum())"
   ]
  },
  {
   "cell_type": "code",
   "execution_count": 16,
   "metadata": {},
   "outputs": [
    {
     "data": {
      "text/plain": [
       "False"
      ]
     },
     "execution_count": 16,
     "metadata": {},
     "output_type": "execute_result"
    }
   ],
   "source": [
    "states,puff_locations_new = run_old_state_machine_on_thresholded_predictions(label_new)\n",
    "# df['state'] was computed on watch and we reimplemented here for consistency\n",
    "states == df['state'].to_list()"
   ]
  },
  {
   "cell_type": "code",
   "execution_count": 17,
   "metadata": {},
   "outputs": [
    {
     "data": {
      "text/plain": [
       "[753, 1865, 4010, 5347, 7532, 8330, 30225, 37578]"
      ]
     },
     "execution_count": 17,
     "metadata": {},
     "output_type": "execute_result"
    }
   ],
   "source": [
    "puff_locations_new"
   ]
  },
  {
   "cell_type": "code",
   "execution_count": 18,
   "metadata": {},
   "outputs": [
    {
     "name": "stdout",
     "output_type": "stream",
     "text": [
      "0    64386\n",
      "3     1382\n",
      "4      435\n",
      "1      252\n",
      "2      114\n",
      "Name: state_new, dtype: int64\n",
      "0    62659\n",
      "3     1755\n",
      "4     1335\n",
      "1      496\n",
      "2      324\n",
      "Name: state, dtype: int64\n"
     ]
    }
   ],
   "source": [
    "df['state_new'] = states\n",
    "print(df['state_new'].value_counts())\n",
    "print(df['state'].value_counts())\n",
    "# decrease in state 4 and state 2"
   ]
  },
  {
   "cell_type": "code",
   "execution_count": 19,
   "metadata": {},
   "outputs": [],
   "source": [
    "# let's plot puff locations\n",
    "# how do thresholded outputs translate into decisions about puffs?\n",
    "fig = px.line(df,y=['acc_x','label_new','state_new'],labels={'index':'time (seconds)','value':'acceleration (m/s^2)'})\n",
    "for puff_loc in puff_locations_new:\n",
    "    fig.add_vline(x=puff_loc)\n",
    "fig.show(renderer='browser')"
   ]
  },
  {
   "cell_type": "code",
   "execution_count": 20,
   "metadata": {},
   "outputs": [],
   "source": [
    "# compare old and new\n",
    "fig = px.line(df,y=['acc_x','label','state','label_new','state_new'],labels={'index':'time (seconds)','value':'acceleration (m/s^2)'})\n",
    "for puff_loc in puff_locations:\n",
    "    fig.add_vline(x=puff_loc,line_dash=\"dash\", line_color=\"red\")\n",
    "for puff_loc in puff_locations_new:\n",
    "    fig.add_vline(x=puff_loc, line_color=\"green\",line_width=2)\n",
    "fig.show(renderer='browser')"
   ]
  },
  {
   "cell_type": "code",
   "execution_count": null,
   "metadata": {},
   "outputs": [],
   "source": [
    "# which one's are sessions?\n",
    "states,puff_locations_new_new = run_new_state_machine_on_thresholded_predictions(label_new)"
   ]
  },
  {
   "cell_type": "code",
   "execution_count": null,
   "metadata": {},
   "outputs": [],
   "source": [
    "states == df['state_new'].to_list()"
   ]
  },
  {
   "cell_type": "code",
   "execution_count": null,
   "metadata": {},
   "outputs": [],
   "source": [
    "df['state_new_new'] = states\n",
    "# compare new and new new\n",
    "fig = px.line(df,y=['acc_x','label_new','state_new','state_new_new'],labels={'index':'time (seconds)','value':'acceleration (m/s^2)'})\n",
    "for puff_loc in puff_locations_new:\n",
    "    fig.add_vline(x=puff_loc,line_dash=\"dash\", line_color=\"red\")\n",
    "for puff_loc in puff_locations_new_new:\n",
    "    fig.add_vline(x=puff_loc, line_color=\"green\",line_width=2)\n",
    "fig.show(renderer='browser')"
   ]
  },
  {
   "cell_type": "code",
   "execution_count": null,
   "metadata": {},
   "outputs": [],
   "source": [
    "puff_locations_new"
   ]
  },
  {
   "cell_type": "code",
   "execution_count": null,
   "metadata": {},
   "outputs": [],
   "source": [
    "# we gained 1 good-looking puff\n",
    "puff_locations_new_new"
   ]
  },
  {
   "cell_type": "code",
   "execution_count": 77,
   "metadata": {},
   "outputs": [
    {
     "name": "stderr",
     "output_type": "stream",
     "text": [
      "100%|██████████| 66470/66470 [00:06<00:00, 10808.71it/s]\n"
     ]
    }
   ],
   "source": [
    "# block to compare old puffs to new puffs\n",
    "df,(times,events),X = load_thrasher_by_index(1,dir='data/thrasher')\n",
    "\n",
    "states,puff_locations = run_old_state_machine_on_thresholded_predictions(df['label'].to_numpy())\n",
    "labels = forward(X)\n",
    "df['rawlabel_new'] = labels\n",
    "df['rawlabel'] = df['rawlabel']*10\n",
    "df['rawlabel_new'] = df['rawlabel_new']*10\n",
    "\n",
    "label_new = [1 if y > .85 else 0 for y in labels]\n",
    "df['label_new'] = label_new\n",
    "df['label_new'] = df['label_new']*10\n",
    "df['label'] = df['label']*10\n",
    "\n",
    "states,puff_locations_new = run_new_state_machine_on_thresholded_predictions(label_new)\n",
    "df['state_new'] = states\n",
    "\n",
    "fig = px.line(df,y=['acc_x'],labels={'index':'time (seconds)','value':'acceleration (m/s^2)'})\n",
    "for puff_loc in puff_locations:\n",
    "    fig.add_vline(x=puff_loc,line_dash=\"dash\", line_color=\"red\")\n",
    "for puff_loc in puff_locations_new:\n",
    "    fig.add_vline(x=puff_loc, line_color=\"green\",line_width=2)\n",
    "fig.show(renderer='browser')"
   ]
  },
  {
   "cell_type": "code",
   "execution_count": 21,
   "metadata": {},
   "outputs": [],
   "source": [
    "# session detection\n",
    "puffs = np.zeros(len(df))\n",
    "puffs[np.array(puff_locations)] = 1\n",
    "puffs_in_session = []\n",
    "for i,puff in enumerate(puffs):\n",
    "    if i < 9600:\n",
    "        puffs_in_session.append(puffs[0:i+1].sum())\n",
    "    else:\n",
    "        puffs_in_session.append(puffs[i-9599:i+1].sum())\n",
    "df['puff_count'] = puffs_in_session"
   ]
  },
  {
   "cell_type": "code",
   "execution_count": 22,
   "metadata": {},
   "outputs": [],
   "source": [
    "session_idx = []\n",
    "for i,(puff,puff_count) in enumerate(zip(puffs,puffs_in_session)):\n",
    "    if(puff and puff_count > 2):\n",
    "        session_idx.append(i)"
   ]
  },
  {
   "cell_type": "code",
   "execution_count": 23,
   "metadata": {},
   "outputs": [],
   "source": [
    "# session detection\n",
    "puffs = np.zeros(len(df))\n",
    "puffs[np.array(puff_locations_new)] = 1\n",
    "puffs_in_session = []\n",
    "for i,puff in enumerate(puffs):\n",
    "    if i < 9600:\n",
    "        puffs_in_session.append(puffs[0:i+1].sum())\n",
    "    else:\n",
    "        puffs_in_session.append(puffs[i-9599:i+1].sum())\n",
    "df['puff_count_new'] = puffs_in_session"
   ]
  },
  {
   "cell_type": "code",
   "execution_count": 24,
   "metadata": {},
   "outputs": [],
   "source": [
    "session_idx_new = []\n",
    "for i,(puff,puff_count) in enumerate(zip(puffs,puffs_in_session)):\n",
    "    if(puff and puff_count > 2):\n",
    "        session_idx_new.append(i)"
   ]
  },
  {
   "cell_type": "code",
   "execution_count": 26,
   "metadata": {},
   "outputs": [],
   "source": [
    "fig = px.line(df[:50000],y=['acc_x','puff_count','puff_count_new'],labels={'index':'time (seconds)','value':'acceleration (m/s^2)'})\n",
    "for puff_loc in puff_locations:\n",
    "    fig.add_vline(x=puff_loc,line_dash=\"dash\", line_color=\"red\",line_width=.3)\n",
    "for puff_loc in puff_locations_new:\n",
    "    fig.add_vline(x=puff_loc, line_color=\"green\",line_width=.3)\n",
    "for session_loc in session_idx:\n",
    "    fig.add_vline(x=session_loc,line_dash=\"dash\", line_color=\"red\",line_width=2)\n",
    "for session_loc in session_idx_new:\n",
    "    fig.add_vline(x=session_loc, line_color=\"green\",line_width=2)\n",
    "fig.show(renderer='browser')"
   ]
  },
  {
   "cell_type": "code",
   "execution_count": 27,
   "metadata": {},
   "outputs": [],
   "source": [
    "# now the question is should a session have been triggered?\n",
    "# we could compute using a label signal, but we don't have that.\n",
    "fig = px.line(df,y=['acc_x'],labels={'index':'time (seconds)','value':'acceleration (m/s^2)'})\n",
    "for puff_loc in puff_locations_new:\n",
    "    fig.add_vline(x=puff_loc,line_dash='dash', line_color=\"green\",line_width=1)\n",
    "for session_loc in session_idx_new:\n",
    "    fig.add_vline(x=session_loc, line_color=\"green\",line_width=2)\n",
    "fig.show(renderer='browser')"
   ]
  },
  {
   "cell_type": "code",
   "execution_count": 83,
   "metadata": {},
   "outputs": [
    {
     "name": "stdout",
     "output_type": "stream",
     "text": [
      "Length from shape: 3328.45\n",
      "Length from timestamp: 3185.2010432730003\n",
      "Length from epoch time : 3185.161999940872\n"
     ]
    },
    {
     "name": "stderr",
     "output_type": "stream",
     "text": [
      "100%|██████████| 66470/66470 [00:06<00:00, 10518.25it/s]\n"
     ]
    }
   ],
   "source": [
    "# block to compare old puffs to new puffs\n",
    "df,(times,events),X = load_thrasher_by_index(1,dir='data/thrasher')\n",
    "model = MLP().cuda()\n",
    "model.load_state_dict(torch.load('model-epoch9.pt'))\n",
    "logits = model(X.cuda())\n",
    "y_pred = nn.Sigmoid()(logits)\n",
    "y_pred = y_pred.detach().cpu()\n",
    "y_pred = y_pred.round()\n",
    "y_pred = torch.cat([torch.zeros(50,1),y_pred,torch.zeros(49,1)]).long()\n",
    "df['y_pred'] = y_pred*10\n",
    "\n",
    "labels = forward(X)\n",
    "labels = [1 if y > .85 else 0 for y in labels]\n",
    "states,puff_locations = run_new_state_machine_on_thresholded_predictions(labels)\n",
    "\n",
    "df['label_1'] = labels\n",
    "df['label_1'] = df['label_1']*10\n",
    "df['state_1'] = states\n",
    "\n",
    "states,puff_locations_new = run_new_state_machine_on_thresholded_predictions(y_pred)\n",
    "df['label_2'] = y_pred\n",
    "df['label_2'] = df['label_2']*10\n",
    "df['state_2'] = states\n",
    "\n",
    "fig = px.line(df,y=['acc_x','label_1','label_2'],labels={'index':'time (seconds)','value':'acceleration (m/s^2)'})\n",
    "for puff_loc in puff_locations:\n",
    "    fig.add_vline(x=puff_loc,line_dash=\"dash\", line_color=\"red\")\n",
    "for puff_loc in puff_locations_new:\n",
    "    fig.add_vline(x=puff_loc, line_color=\"green\",line_width=2)\n",
    "fig.show(renderer='browser')"
   ]
  }
 ],
 "metadata": {
  "kernelspec": {
   "display_name": "Python 3.10.6 64-bit",
   "language": "python",
   "name": "python3"
  },
  "language_info": {
   "codemirror_mode": {
    "name": "ipython",
    "version": 3
   },
   "file_extension": ".py",
   "mimetype": "text/x-python",
   "name": "python",
   "nbconvert_exporter": "python",
   "pygments_lexer": "ipython3",
   "version": "3.10.6"
  },
  "orig_nbformat": 4,
  "vscode": {
   "interpreter": {
    "hash": "916dbcbb3f70747c44a77c7bcd40155683ae19c65e1c03b4aa3499c5328201f1"
   }
  }
 },
 "nbformat": 4,
 "nbformat_minor": 2
}
