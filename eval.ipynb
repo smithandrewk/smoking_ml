{
 "cells": [
  {
   "cell_type": "code",
   "execution_count": null,
   "metadata": {},
   "outputs": [],
   "source": [
    "import torch\n",
    "from torch import nn\n",
    "from lib.nursing import *\n",
    "from lib.utils import *\n",
    "from lib.models import FCN"
   ]
  },
  {
   "cell_type": "code",
   "execution_count": null,
   "metadata": {},
   "outputs": [],
   "source": [
    "# a single fold\n",
    "foldi = 0\n",
    "model = ResNet()\n",
    "model.load_state_dict(torch.load(f'../projects/res_cv_{foldi}/best_model.pt'))\n",
    "criterion = nn.BCEWithLogitsLoss()\n",
    "test_idx = load_cv_test_idx(foldi=foldi)\n",
    "X,y = load_and_window_nursing_list_for_convolution(test_idx)\n",
    "devloader = DataLoader(TensorDataset(X,y),batch_size=32,shuffle=False)\n",
    "loss,metric,y_true,y_pred,y_logits = evaluate(devloader,model,criterion)"
   ]
  },
  {
   "cell_type": "code",
   "execution_count": null,
   "metadata": {},
   "outputs": [],
   "source": [
    "# over all folds\n",
    "all_metrics = pd.DataFrame()\n",
    "\n",
    "for foldi in range(5):\n",
    "    model = FCN()\n",
    "    model.load_state_dict(torch.load(f'../projects/fcn_cv_{foldi}/best_model.pt',map_location='cuda'))\n",
    "    criterion = nn.BCEWithLogitsLoss()\n",
    "    test_idx = load_cv_test_idx(foldi=foldi)\n",
    "    X,y = load_and_window_nursing_list_for_convolution(test_idx)\n",
    "    devloader = DataLoader(TensorDataset(X,y),batch_size=32,shuffle=False)\n",
    "    loss,metric,y_true,y_pred,y_logits = evaluate(devloader,model,criterion)\n",
    "\n",
    "    all_metrics = pd.concat([all_metrics,pd.Series(metric,name=f'{foldi}')],axis=1)"
   ]
  },
  {
   "cell_type": "code",
   "execution_count": null,
   "metadata": {},
   "outputs": [],
   "source": [
    "all_metrics"
   ]
  },
  {
   "cell_type": "code",
   "execution_count": null,
   "metadata": {},
   "outputs": [],
   "source": [
    "all_metrics.T.describe()"
   ]
  },
  {
   "cell_type": "code",
   "execution_count": null,
   "metadata": {},
   "outputs": [],
   "source": [
    "import seaborn as sns\n",
    "plt.figure(figsize=(5,5))\n",
    "sns.boxplot(data=all_metrics.T.melt(),x='value',y='variable')"
   ]
  },
  {
   "cell_type": "code",
   "execution_count": null,
   "metadata": {},
   "outputs": [],
   "source": [
    "a = all_metrics.reset_index().melt(id_vars='index')\n",
    "a['variable'] = a['variable'].astype(int)\n",
    "plt.figure(figsize=(16,4))\n",
    "plt.grid()\n",
    "sns.barplot(data=a,x='variable',y='value',hue='index')\n",
    "plt.xlabel('fold index')\n",
    "plt.ylabel('score')"
   ]
  },
  {
   "cell_type": "code",
   "execution_count": null,
   "metadata": {},
   "outputs": [],
   "source": [
    "# let's checkout fold 2\n",
    "foldi = 2\n",
    "model = ResNet()\n",
    "model.load_state_dict(torch.load(f'../projects/res_cv_{foldi}/best_model.pt'))\n",
    "criterion = nn.BCEWithLogitsLoss()\n",
    "test_idx = load_cv_test_idx(foldi=foldi)\n",
    "\n",
    "all_metrics = pd.DataFrame()\n",
    "\n",
    "for i in test_idx:\n",
    "    X,y = load_and_window_nursing_list_for_convolution([i])\n",
    "    testloader = DataLoader(TensorDataset(X,y),batch_size=32,shuffle=False)\n",
    "    loss,metric,y_true,y_pred,y_logits = evaluate(testloader,model,criterion)\n",
    "    fig,axes = plt.subplots(nrows=2,ncols=1,figsize=(30,5),gridspec_kw={'height_ratios': [1,5]})\n",
    "    axes[0].plot(y_true,'r',linewidth=.5)\n",
    "    axes[0].axis('off')\n",
    "    plt.stackplot(torch.arange(len(y_logits)),torch.hstack([torch.ones_like(y_logits) - y_logits,y_logits]).T)\n",
    "    # plt.savefig(f'{i}.svg',bbox_inches='tight')\n",
    "    cm_grid(y_true,y_pred,save_path=f'{i}.cm.jpg')\n",
    "    all_metrics = pd.concat([all_metrics,pd.Series(metric,name=f'{i}')],axis=1)"
   ]
  },
  {
   "cell_type": "code",
   "execution_count": null,
   "metadata": {},
   "outputs": [],
   "source": [
    "all_metrics"
   ]
  },
  {
   "cell_type": "code",
   "execution_count": null,
   "metadata": {},
   "outputs": [],
   "source": [
    "all_metrics.T.describe()"
   ]
  },
  {
   "cell_type": "code",
   "execution_count": null,
   "metadata": {},
   "outputs": [],
   "source": [
    "plt.figure(figsize=(5,5))\n",
    "sns.boxplot(data=all_metrics.T.melt(),x='value',y='variable')"
   ]
  },
  {
   "cell_type": "code",
   "execution_count": null,
   "metadata": {},
   "outputs": [],
   "source": [
    "a = all_metrics.reset_index().melt(id_vars='index')\n",
    "a['variable'] = a['variable'].astype(int)\n",
    "plt.figure(figsize=(16,4))\n",
    "plt.grid()\n",
    "sns.barplot(data=a,x='variable',y='value',hue='index')\n",
    "plt.xlabel('fold index')\n",
    "plt.ylabel('score')"
   ]
  },
  {
   "cell_type": "code",
   "execution_count": null,
   "metadata": {},
   "outputs": [],
   "source": [
    "# let's check participant 21 in fold 2\n",
    "i = 22\n",
    "foldi = 2\n",
    "model = ResNet()\n",
    "model.load_state_dict(torch.load(f'../projects/res_cv_{foldi}/best_model.pt'))\n",
    "criterion = nn.BCEWithLogitsLoss()\n",
    "X,y = load_and_window_nursing_list_for_convolution([i])\n",
    "testloader = DataLoader(TensorDataset(X,y),batch_size=32,shuffle=False)\n",
    "loss,metric,y_true,y_pred,y_logits = evaluate(testloader,model,criterion)\n",
    "fig,axes = plt.subplots(nrows=2,ncols=1,figsize=(30,5),gridspec_kw={'height_ratios': [1,5]})\n",
    "axes[0].plot(y_true,'r',linewidth=.5)\n",
    "axes[0].axis('off')\n",
    "plt.stackplot(torch.arange(len(y_logits)),torch.hstack([torch.ones_like(y_logits) - y_logits,y_logits]).T)\n",
    "plt.savefig(f'logits.pdf',bbox_inches='tight')\n",
    "cm_grid(y_true,y_pred,save_path=f'{i}.cm.svg')\n",
    "import plotly.express as px\n",
    "X,y = load_nursing_by_index(i)\n",
    "df = pd.DataFrame(X.numpy())\n",
    "df['y_pred'] = torch.cat([torch.zeros(101//2),y_pred.flatten().round(),torch.zeros(101//2)])*10\n",
    "df['y_true'] = y*10\n",
    "fig = px.line(df)\n",
    "fig.show(renderer='browser')"
   ]
  },
  {
   "cell_type": "code",
   "execution_count": null,
   "metadata": {},
   "outputs": [],
   "source": [
    "import plotly.express as px\n",
    "X,y = load_nursing_by_index(0)\n",
    "df = pd.DataFrame(X.numpy())\n",
    "df['y_true'] = y*10\n",
    "fig = px.line(df)\n",
    "fig.show(renderer='browser')"
   ]
  }
 ],
 "metadata": {
  "kernelspec": {
   "display_name": "Python 3.10.6 64-bit",
   "language": "python",
   "name": "python3"
  },
  "language_info": {
   "codemirror_mode": {
    "name": "ipython",
    "version": 3
   },
   "file_extension": ".py",
   "mimetype": "text/x-python",
   "name": "python",
   "nbconvert_exporter": "python",
   "pygments_lexer": "ipython3",
   "version": "3.10.6"
  },
  "orig_nbformat": 4,
  "vscode": {
   "interpreter": {
    "hash": "916dbcbb3f70747c44a77c7bcd40155683ae19c65e1c03b4aa3499c5328201f1"
   }
  }
 },
 "nbformat": 4,
 "nbformat_minor": 2
}
